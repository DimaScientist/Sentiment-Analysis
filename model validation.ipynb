{
 "cells": [
  {
   "cell_type": "markdown",
   "source": [
    "# Анализ тональности текста (Sentiment analysis). Валидация модели\n",
    "\n",
    "В качестве моделей будут рассматриваться рекурентные нейронные сети"
   ],
   "metadata": {
    "collapsed": false,
    "pycharm": {
     "name": "#%% md\n"
    }
   }
  },
  {
   "cell_type": "code",
   "execution_count": null,
   "outputs": [],
   "source": [
    "!pip install -r requirements.txt"
   ],
   "metadata": {
    "collapsed": false,
    "pycharm": {
     "name": "#%%\n",
     "is_executing": true
    }
   }
  },
  {
   "cell_type": "code",
   "execution_count": 2,
   "outputs": [],
   "source": [
    "import pandas as pd\n",
    "import warnings\n",
    "import numpy as np\n",
    "import matplotlib.pyplot as plt\n",
    "import seaborn as sns\n",
    "from sklearn.metrics import roc_curve, roc_auc_score, confusion_matrix\n",
    "\n",
    "\n",
    "warnings.filterwarnings('ignore')\n",
    "np.random.seed(0)\n",
    "\n",
    "def plot_roc_curve(y_pred, y_true) -> None:\n",
    "    fpr, tpr, _ = roc_curve(y_true, y_pred)\n",
    "    plt.plot(fpr, tpr)\n",
    "    plt.axis([0,1,0,1])\n",
    "    plt.title(\"ROC-кривая\")\n",
    "    plt.xlabel('False Positive Rate')\n",
    "    plt.ylabel('True Positive Rate')\n",
    "    plt.show()\n",
    "    print(f\"ROC-AUC Score: {roc_auc_score(y_true, y_pred)}\")\n",
    "\n",
    "def plot_confusion_matrix(y_pred, y_true) -> None:\n",
    "    cf_matrix = confusion_matrix(y_true, y_pred)\n",
    "    ax = sns.heatmap(cf_matrix, annot=True, cmap=\"Blues\")\n",
    "    ax.set_title(\"Матрица неточностей\")\n",
    "    ax.set_xlabel(\"Предсказанные значения\")\n",
    "    ax.set_ylabel(\"Действительные значения\")\n",
    "    plt.show()\n",
    "\n",
    "def plot_history_nn(history) -> None:\n",
    "    plt.plot(history.history['accuracy'], label=\"Точность на обучающем наборе\")\n",
    "    plt.plot(history.history['val_accuracy'], label=\"Точность на проверочном наборе\")\n",
    "    plt.xlabel(\"Эпоха обучения\")\n",
    "    plt.ylabel(\"Точность\")\n",
    "    plt.legend()\n",
    "    plt.show()"
   ],
   "metadata": {
    "collapsed": false,
    "pycharm": {
     "name": "#%%\n"
    }
   }
  },
  {
   "cell_type": "code",
   "execution_count": 3,
   "outputs": [],
   "source": [
    "train_data = pd.read_csv(\"./data/clear_train_data.csv\")"
   ],
   "metadata": {
    "collapsed": false,
    "pycharm": {
     "name": "#%%\n"
    }
   }
  },
  {
   "cell_type": "code",
   "execution_count": 4,
   "outputs": [
    {
     "data": {
      "text/plain": "   sentiment                                             review\n0          1  stuff going moment mj started listening music ...\n1          1  classic war worlds timothy hines entertaining ...\n2          0  film starts manager nicholas bell giving welco...\n3          0  must assumed praised film greatest filmed oper...\n4          1  superbly trashy wondrously unpretentious explo...",
      "text/html": "<div>\n<style scoped>\n    .dataframe tbody tr th:only-of-type {\n        vertical-align: middle;\n    }\n\n    .dataframe tbody tr th {\n        vertical-align: top;\n    }\n\n    .dataframe thead th {\n        text-align: right;\n    }\n</style>\n<table border=\"1\" class=\"dataframe\">\n  <thead>\n    <tr style=\"text-align: right;\">\n      <th></th>\n      <th>sentiment</th>\n      <th>review</th>\n    </tr>\n  </thead>\n  <tbody>\n    <tr>\n      <th>0</th>\n      <td>1</td>\n      <td>stuff going moment mj started listening music ...</td>\n    </tr>\n    <tr>\n      <th>1</th>\n      <td>1</td>\n      <td>classic war worlds timothy hines entertaining ...</td>\n    </tr>\n    <tr>\n      <th>2</th>\n      <td>0</td>\n      <td>film starts manager nicholas bell giving welco...</td>\n    </tr>\n    <tr>\n      <th>3</th>\n      <td>0</td>\n      <td>must assumed praised film greatest filmed oper...</td>\n    </tr>\n    <tr>\n      <th>4</th>\n      <td>1</td>\n      <td>superbly trashy wondrously unpretentious explo...</td>\n    </tr>\n  </tbody>\n</table>\n</div>"
     },
     "execution_count": 4,
     "metadata": {},
     "output_type": "execute_result"
    }
   ],
   "source": [
    "train_data.head()"
   ],
   "metadata": {
    "collapsed": false,
    "pycharm": {
     "name": "#%%\n"
    }
   }
  },
  {
   "cell_type": "code",
   "execution_count": 5,
   "outputs": [
    {
     "data": {
      "text/plain": "(25000, 2)"
     },
     "execution_count": 5,
     "metadata": {},
     "output_type": "execute_result"
    }
   ],
   "source": [
    "train_data.shape"
   ],
   "metadata": {
    "collapsed": false,
    "pycharm": {
     "name": "#%%\n"
    }
   }
  },
  {
   "cell_type": "code",
   "execution_count": 6,
   "outputs": [],
   "source": [
    "X = train_data[\"review\"]\n",
    "y = train_data[\"sentiment\"]"
   ],
   "metadata": {
    "collapsed": false,
    "pycharm": {
     "name": "#%%\n"
    }
   }
  },
  {
   "cell_type": "markdown",
   "source": [
    "## Подготовка данных для обучения"
   ],
   "metadata": {
    "collapsed": false,
    "pycharm": {
     "name": "#%% md\n"
    }
   }
  },
  {
   "cell_type": "code",
   "execution_count": 7,
   "outputs": [],
   "source": [
    "from keras.preprocessing.text import Tokenizer\n",
    "from keras.preprocessing.sequence import pad_sequences"
   ],
   "metadata": {
    "collapsed": false,
    "pycharm": {
     "name": "#%%\n"
    }
   }
  },
  {
   "cell_type": "code",
   "execution_count": 8,
   "outputs": [],
   "source": [
    "# разбиваем текст на токены и создаем их последовательности\n",
    "tokenizer = Tokenizer()\n",
    "tokenizer.fit_on_texts(X)\n",
    "X_clean = pad_sequences(tokenizer.texts_to_sequences(X))"
   ],
   "metadata": {
    "collapsed": false,
    "pycharm": {
     "name": "#%%\n"
    }
   }
  },
  {
   "cell_type": "code",
   "execution_count": 9,
   "outputs": [],
   "source": [
    "# разобьем выборку на обучающую и проверочную\n",
    "from sklearn.model_selection import train_test_split\n",
    "\n",
    "X_train, X_val, y_train, y_val = train_test_split(X_clean, y, test_size=0.5)"
   ],
   "metadata": {
    "collapsed": false,
    "pycharm": {
     "name": "#%%\n"
    }
   }
  },
  {
   "cell_type": "code",
   "execution_count": 10,
   "outputs": [
    {
     "data": {
      "text/plain": "array([[    0,     0,     0, ...,    11,     2,     5],\n       [    0,     0,     0, ...,  3704,   649,  2041],\n       [    0,     0,     0, ...,   457,  3592,   510],\n       ...,\n       [    0,     0,     0, ...,  1543, 11088,   328],\n       [    0,     0,     0, ...,   346,   326,  4575],\n       [    0,     0,     0, ...,  4593,     1,  9407]])"
     },
     "execution_count": 10,
     "metadata": {},
     "output_type": "execute_result"
    }
   ],
   "source": [
    "X_train[:10]"
   ],
   "metadata": {
    "collapsed": false,
    "pycharm": {
     "name": "#%%\n"
    }
   }
  },
  {
   "cell_type": "code",
   "execution_count": 11,
   "outputs": [
    {
     "data": {
      "text/plain": "(12500, 1416)"
     },
     "execution_count": 11,
     "metadata": {},
     "output_type": "execute_result"
    }
   ],
   "source": [
    "X_train.shape"
   ],
   "metadata": {
    "collapsed": false,
    "pycharm": {
     "name": "#%%\n"
    }
   }
  },
  {
   "cell_type": "code",
   "execution_count": 12,
   "outputs": [
    {
     "data": {
      "text/plain": "(12500,)"
     },
     "execution_count": 12,
     "metadata": {},
     "output_type": "execute_result"
    }
   ],
   "source": [
    "y_train.shape"
   ],
   "metadata": {
    "collapsed": false,
    "pycharm": {
     "name": "#%%\n"
    }
   }
  },
  {
   "cell_type": "code",
   "execution_count": 13,
   "outputs": [
    {
     "data": {
      "text/plain": "(12500, 1416)"
     },
     "execution_count": 13,
     "metadata": {},
     "output_type": "execute_result"
    }
   ],
   "source": [
    "X_val.shape"
   ],
   "metadata": {
    "collapsed": false,
    "pycharm": {
     "name": "#%%\n"
    }
   }
  },
  {
   "cell_type": "markdown",
   "source": [
    "## Создание и валидация моделей"
   ],
   "metadata": {
    "collapsed": false,
    "pycharm": {
     "name": "#%% md\n"
    }
   }
  },
  {
   "cell_type": "code",
   "execution_count": 14,
   "outputs": [],
   "source": [
    "from keras.models import Sequential\n",
    "from keras.layers import (\n",
    "    Dense,\n",
    "    Embedding,\n",
    "    LSTM,\n",
    "    GRU,\n",
    "    SimpleRNN,\n",
    ")"
   ],
   "metadata": {
    "collapsed": false,
    "pycharm": {
     "name": "#%%\n"
    }
   }
  },
  {
   "cell_type": "markdown",
   "source": [
    "### Простая рекурентная нейронная сеть"
   ],
   "metadata": {
    "collapsed": false,
    "pycharm": {
     "name": "#%% md\n"
    }
   }
  },
  {
   "cell_type": "code",
   "execution_count": 15,
   "outputs": [],
   "source": [
    "max_words = 100000\n",
    "\n",
    "simple_model = Sequential()\n",
    "simple_model.add(Embedding(max_words, 128))\n",
    "simple_model.add(SimpleRNN(32, recurrent_dropout = 0.2))\n",
    "simple_model.add(Dense(1, activation=\"sigmoid\"))\n",
    "simple_model._estimator_type = \"classifier\""
   ],
   "metadata": {
    "collapsed": false,
    "pycharm": {
     "name": "#%%\n"
    }
   }
  },
  {
   "cell_type": "code",
   "execution_count": 16,
   "outputs": [],
   "source": [
    "simple_model.compile(optimizer='rmsprop',  loss='binary_crossentropy', metrics=['accuracy'])"
   ],
   "metadata": {
    "collapsed": false,
    "pycharm": {
     "name": "#%%\n"
    }
   }
  },
  {
   "cell_type": "code",
   "execution_count": 17,
   "outputs": [
    {
     "name": "stdout",
     "output_type": "stream",
     "text": [
      "Epoch 1/10\n",
      "88/88 [==============================] - 90s 1s/step - loss: 0.7021 - accuracy: 0.5067 - val_loss: 0.6839 - val_accuracy: 0.5592\n",
      "Epoch 2/10\n",
      "88/88 [==============================] - 89s 1s/step - loss: 0.6721 - accuracy: 0.5812 - val_loss: 0.6641 - val_accuracy: 0.6128\n",
      "Epoch 3/10\n",
      "88/88 [==============================] - 90s 1s/step - loss: 0.5790 - accuracy: 0.7128 - val_loss: 0.8258 - val_accuracy: 0.5304\n",
      "Epoch 4/10\n",
      "88/88 [==============================] - 90s 1s/step - loss: 0.4164 - accuracy: 0.8215 - val_loss: 0.6333 - val_accuracy: 0.7328\n",
      "Epoch 5/10\n",
      "88/88 [==============================] - 90s 1s/step - loss: 0.3201 - accuracy: 0.8690 - val_loss: 0.9609 - val_accuracy: 0.6976\n",
      "Epoch 6/10\n",
      "88/88 [==============================] - 90s 1s/step - loss: 0.2390 - accuracy: 0.9106 - val_loss: 0.9212 - val_accuracy: 0.7312\n",
      "Epoch 7/10\n",
      "88/88 [==============================] - 88s 999ms/step - loss: 0.1924 - accuracy: 0.9306 - val_loss: 0.5354 - val_accuracy: 0.8280\n",
      "Epoch 8/10\n",
      "88/88 [==============================] - 89s 1s/step - loss: 0.1533 - accuracy: 0.9468 - val_loss: 0.6034 - val_accuracy: 0.8224\n",
      "Epoch 9/10\n",
      "88/88 [==============================] - 88s 1s/step - loss: 0.1171 - accuracy: 0.9603 - val_loss: 0.6142 - val_accuracy: 0.8256\n",
      "Epoch 10/10\n",
      "88/88 [==============================] - 89s 1s/step - loss: 0.0908 - accuracy: 0.9694 - val_loss: 0.6668 - val_accuracy: 0.8376\n"
     ]
    }
   ],
   "source": [
    "history = simple_model.fit(X_train, y_train, epochs=10, batch_size=128, validation_split=0.1)"
   ],
   "metadata": {
    "collapsed": false,
    "pycharm": {
     "name": "#%%\n"
    }
   }
  },
  {
   "cell_type": "code",
   "execution_count": 18,
   "outputs": [
    {
     "data": {
      "text/plain": "<Figure size 432x288 with 1 Axes>",
      "image/png": "[encoded data removed]"
     },
     "metadata": {
      "needs_background": "light"
     },
     "output_type": "display_data"
    }
   ],
   "source": [
    "plot_history_nn(history)"
   ],
   "metadata": {
    "collapsed": false,
    "pycharm": {
     "name": "#%%\n"
    }
   }
  },
  {
   "cell_type": "code",
   "execution_count": 19,
   "outputs": [],
   "source": [
    "y_pred = simple_model.predict(X_val)"
   ],
   "metadata": {
    "collapsed": false,
    "pycharm": {
     "name": "#%%\n"
    }
   }
  },
  {
   "cell_type": "code",
   "execution_count": 20,
   "outputs": [
    {
     "data": {
      "text/plain": "<Figure size 432x288 with 1 Axes>",
      "image/png": "[encoded data removed]"
     },
     "metadata": {
      "needs_background": "light"
     },
     "output_type": "display_data"
    },
    {
     "name": "stdout",
     "output_type": "stream",
     "text": [
      "ROC-AUC Score: 0.8990642257644819\n"
     ]
    }
   ],
   "source": [
    "plot_roc_curve(y_pred, y_val)"
   ],
   "metadata": {
    "collapsed": false,
    "pycharm": {
     "name": "#%%\n"
    }
   }
  },
  {
   "cell_type": "code",
   "execution_count": 21,
   "outputs": [
    {
     "data": {
      "text/plain": "<Figure size 432x288 with 2 Axes>",
      "image/png": "[encoded data removed]"
     },
     "metadata": {
      "needs_background": "light"
     },
     "output_type": "display_data"
    }
   ],
   "source": [
    "y_pred_int = [1 if pred[0] > 0.5 else 0 for pred in y_pred]  # так как предсказания в интервале 0 и 1, то будем считать, что 1 - больше 0.5, иначе - 0\n",
    "plot_confusion_matrix(y_pred_int, y_val)"
   ],
   "metadata": {
    "collapsed": false,
    "pycharm": {
     "name": "#%%\n"
    }
   }
  },
  {
   "cell_type": "markdown",
   "source": [
    "### Реккурентная сеть со слоем LSTM"
   ],
   "metadata": {
    "collapsed": false,
    "pycharm": {
     "name": "#%% md\n"
    }
   }
  },
  {
   "cell_type": "code",
   "execution_count": 22,
   "outputs": [],
   "source": [
    "model_lstm = Sequential()\n",
    "model_lstm.add(Embedding(max_words, 128))\n",
    "model_lstm.add(LSTM(32, recurrent_dropout = 0.2))\n",
    "model_lstm.add(Dense(1, activation=\"sigmoid\"))\n",
    "\n",
    "model_lstm.compile(optimizer='rmsprop',  loss='binary_crossentropy', metrics=['accuracy'])"
   ],
   "metadata": {
    "collapsed": false,
    "pycharm": {
     "name": "#%%\n"
    }
   }
  },
  {
   "cell_type": "code",
   "execution_count": 23,
   "outputs": [
    {
     "name": "stdout",
     "output_type": "stream",
     "text": [
      "Epoch 1/10\n",
      "88/88 [==============================] - 228s 3s/step - loss: 0.4839 - accuracy: 0.7765 - val_loss: 0.3393 - val_accuracy: 0.8544\n",
      "Epoch 2/10\n",
      "88/88 [==============================] - 225s 3s/step - loss: 0.2091 - accuracy: 0.9244 - val_loss: 0.3337 - val_accuracy: 0.8696\n",
      "Epoch 3/10\n",
      "88/88 [==============================] - 226s 3s/step - loss: 0.1116 - accuracy: 0.9636 - val_loss: 0.3602 - val_accuracy: 0.8584\n",
      "Epoch 4/10\n",
      "88/88 [==============================] - 227s 3s/step - loss: 0.0588 - accuracy: 0.9812 - val_loss: 0.4066 - val_accuracy: 0.8544\n",
      "Epoch 5/10\n",
      "88/88 [==============================] - 225s 3s/step - loss: 0.0356 - accuracy: 0.9901 - val_loss: 0.4922 - val_accuracy: 0.8624\n",
      "Epoch 6/10\n",
      "88/88 [==============================] - 226s 3s/step - loss: 0.0191 - accuracy: 0.9957 - val_loss: 0.5628 - val_accuracy: 0.8560\n",
      "Epoch 7/10\n",
      "88/88 [==============================] - 228s 3s/step - loss: 0.0119 - accuracy: 0.9972 - val_loss: 0.7446 - val_accuracy: 0.8576\n",
      "Epoch 8/10\n",
      "88/88 [==============================] - 226s 3s/step - loss: 0.0088 - accuracy: 0.9980 - val_loss: 0.6669 - val_accuracy: 0.8560\n",
      "Epoch 9/10\n",
      "88/88 [==============================] - 224s 3s/step - loss: 0.0064 - accuracy: 0.9982 - val_loss: 0.7236 - val_accuracy: 0.8624\n",
      "Epoch 10/10\n",
      "88/88 [==============================] - 230s 3s/step - loss: 0.0087 - accuracy: 0.9977 - val_loss: 0.7904 - val_accuracy: 0.8584\n"
     ]
    }
   ],
   "source": [
    "history = model_lstm.fit(X_train, y_train, epochs=10, batch_size=128, validation_split=0.1)"
   ],
   "metadata": {
    "collapsed": false,
    "pycharm": {
     "name": "#%%\n"
    }
   }
  },
  {
   "cell_type": "code",
   "execution_count": 24,
   "outputs": [
    {
     "data": {
      "text/plain": "<Figure size 432x288 with 1 Axes>",
      "image/png": "[encoded data removed]"
     },
     "metadata": {
      "needs_background": "light"
     },
     "output_type": "display_data"
    }
   ],
   "source": [
    "plot_history_nn(history)"
   ],
   "metadata": {
    "collapsed": false,
    "pycharm": {
     "name": "#%%\n"
    }
   }
  },
  {
   "cell_type": "code",
   "execution_count": 25,
   "outputs": [],
   "source": [
    "y_pred = model_lstm.predict(X_val)"
   ],
   "metadata": {
    "collapsed": false,
    "pycharm": {
     "name": "#%%\n"
    }
   }
  },
  {
   "cell_type": "code",
   "execution_count": 26,
   "outputs": [
    {
     "data": {
      "text/plain": "<Figure size 432x288 with 1 Axes>",
      "image/png": "[encoded data removed]"
     },
     "metadata": {
      "needs_background": "light"
     },
     "output_type": "display_data"
    },
    {
     "name": "stdout",
     "output_type": "stream",
     "text": [
      "ROC-AUC Score: 0.9218223481547424\n"
     ]
    }
   ],
   "source": [
    "plot_roc_curve(y_pred, y_val)"
   ],
   "metadata": {
    "collapsed": false,
    "pycharm": {
     "name": "#%%\n"
    }
   }
  },
  {
   "cell_type": "code",
   "execution_count": 27,
   "outputs": [
    {
     "data": {
      "text/plain": "<Figure size 432x288 with 2 Axes>",
      "image/png": "[encoded data removed]"
     },
     "metadata": {
      "needs_background": "light"
     },
     "output_type": "display_data"
    }
   ],
   "source": [
    "y_pred_int = [1 if pred[0] > 0.5 else 0 for pred in y_pred]  # так как предсказания в интервале 0 и 1, то будем считать, что 1 - больше 0.5, иначе - 0\n",
    "plot_confusion_matrix(y_pred_int, y_val)"
   ],
   "metadata": {
    "collapsed": false,
    "pycharm": {
     "name": "#%%\n"
    }
   }
  },
  {
   "cell_type": "markdown",
   "source": [
    "### Реккурентная сеть со слоем GRU"
   ],
   "metadata": {
    "collapsed": false,
    "pycharm": {
     "name": "#%% md\n"
    }
   }
  },
  {
   "cell_type": "code",
   "execution_count": 28,
   "outputs": [],
   "source": [
    "model_gru = Sequential()\n",
    "model_gru.add(Embedding(max_words, 128))\n",
    "model_gru.add(GRU(32, recurrent_dropout = 0.2))\n",
    "model_gru.add(Dense(1, activation=\"sigmoid\"))\n",
    "\n",
    "model_gru.compile(optimizer='rmsprop',  loss='binary_crossentropy', metrics=['accuracy'])"
   ],
   "metadata": {
    "collapsed": false,
    "pycharm": {
     "name": "#%%\n"
    }
   }
  },
  {
   "cell_type": "code",
   "execution_count": 29,
   "outputs": [
    {
     "name": "stdout",
     "output_type": "stream",
     "text": [
      "Epoch 1/10\n",
      "88/88 [==============================] - 202s 2s/step - loss: 0.5181 - accuracy: 0.7404 - val_loss: 0.3647 - val_accuracy: 0.8456\n",
      "Epoch 2/10\n",
      "88/88 [==============================] - 166s 2s/step - loss: 0.2377 - accuracy: 0.9087 - val_loss: 0.3642 - val_accuracy: 0.8608\n",
      "Epoch 3/10\n",
      "88/88 [==============================] - 167s 2s/step - loss: 0.1323 - accuracy: 0.9571 - val_loss: 0.4390 - val_accuracy: 0.8440\n",
      "Epoch 4/10\n",
      "88/88 [==============================] - 169s 2s/step - loss: 0.0789 - accuracy: 0.9744 - val_loss: 0.4374 - val_accuracy: 0.8592\n",
      "Epoch 5/10\n",
      "88/88 [==============================] - 172s 2s/step - loss: 0.0440 - accuracy: 0.9869 - val_loss: 0.5282 - val_accuracy: 0.8496\n",
      "Epoch 6/10\n",
      "88/88 [==============================] - 170s 2s/step - loss: 0.0258 - accuracy: 0.9924 - val_loss: 0.6177 - val_accuracy: 0.8632\n",
      "Epoch 7/10\n",
      "88/88 [==============================] - 165s 2s/step - loss: 0.0173 - accuracy: 0.9948 - val_loss: 0.6738 - val_accuracy: 0.8496\n",
      "Epoch 8/10\n",
      "88/88 [==============================] - 164s 2s/step - loss: 0.0087 - accuracy: 0.9976 - val_loss: 0.7792 - val_accuracy: 0.8448\n",
      "Epoch 9/10\n",
      "88/88 [==============================] - 163s 2s/step - loss: 0.0057 - accuracy: 0.9980 - val_loss: 0.8636 - val_accuracy: 0.8408\n",
      "Epoch 10/10\n",
      "88/88 [==============================] - 164s 2s/step - loss: 0.0054 - accuracy: 0.9984 - val_loss: 0.7530 - val_accuracy: 0.8480\n"
     ]
    }
   ],
   "source": [
    "history = model_gru.fit(X_train, y_train, epochs=10, batch_size=128, validation_split=0.1)"
   ],
   "metadata": {
    "collapsed": false,
    "pycharm": {
     "name": "#%%\n"
    }
   }
  },
  {
   "cell_type": "code",
   "execution_count": 30,
   "outputs": [
    {
     "data": {
      "text/plain": "<Figure size 432x288 with 1 Axes>",
      "image/png": "[encoded data removed]"
     },
     "metadata": {
      "needs_background": "light"
     },
     "output_type": "display_data"
    }
   ],
   "source": [
    "plot_history_nn(history)"
   ],
   "metadata": {
    "collapsed": false,
    "pycharm": {
     "name": "#%%\n"
    }
   }
  },
  {
   "cell_type": "code",
   "execution_count": 31,
   "outputs": [],
   "source": [
    "y_pred = model_gru.predict(X_val)"
   ],
   "metadata": {
    "collapsed": false,
    "pycharm": {
     "name": "#%%\n"
    }
   }
  },
  {
   "cell_type": "code",
   "execution_count": 32,
   "outputs": [
    {
     "data": {
      "text/plain": "<Figure size 432x288 with 1 Axes>",
      "image/png": "[encoded data removed]"
     },
     "metadata": {
      "needs_background": "light"
     },
     "output_type": "display_data"
    },
    {
     "name": "stdout",
     "output_type": "stream",
     "text": [
      "ROC-AUC Score: 0.9179701299483622\n"
     ]
    }
   ],
   "source": [
    "plot_roc_curve(y_pred, y_val)"
   ],
   "metadata": {
    "collapsed": false,
    "pycharm": {
     "name": "#%%\n"
    }
   }
  },
  {
   "cell_type": "code",
   "execution_count": 33,
   "outputs": [
    {
     "data": {
      "text/plain": "<Figure size 432x288 with 2 Axes>",
      "image/png": "[encoded data removed]"
     },
     "metadata": {
      "needs_background": "light"
     },
     "output_type": "display_data"
    }
   ],
   "source": [
    "y_pred_int = [1 if pred[0] > 0.5 else 0 for pred in y_pred]  # так как предсказания в интервале 0 и 1, то будем считать, что 1 - больше 0.5, иначе - 0\n",
    "plot_confusion_matrix(y_pred_int, y_val)"
   ],
   "metadata": {
    "collapsed": false,
    "pycharm": {
     "name": "#%%\n"
    }
   }
  },
  {
   "cell_type": "markdown",
   "source": [
    "## Примеры"
   ],
   "metadata": {
    "collapsed": false,
    "pycharm": {
     "name": "#%% md\n"
    }
   }
  },
  {
   "cell_type": "code",
   "execution_count": 37,
   "outputs": [],
   "source": [
    "sample_data = train_data.sample(10)\n",
    "X_sample = sample_data[\"review\"]\n",
    "X_sample = pad_sequences(tokenizer.texts_to_sequences(X_sample))"
   ],
   "metadata": {
    "collapsed": false,
    "pycharm": {
     "name": "#%%\n"
    }
   }
  },
  {
   "cell_type": "code",
   "execution_count": 40,
   "outputs": [],
   "source": [
    "y_simple_rnn = simple_model.predict(X_sample)\n",
    "y_gru = model_gru.predict(X_sample)\n",
    "y_lstm = model_lstm.predict(X_sample)"
   ],
   "metadata": {
    "collapsed": false,
    "pycharm": {
     "name": "#%%\n"
    }
   }
  },
  {
   "cell_type": "code",
   "execution_count": 52,
   "outputs": [],
   "source": [
    "data = {\n",
    "    \"review\": sample_data[\"review\"].to_list(),\n",
    "    \"true_prediction\": sample_data[\"sentiment\"].to_list(),\n",
    "    \"simple_rnn_prediction\": [value[0] for value in y_simple_rnn],\n",
    "    \"gru_prediction\": [value[0] for value in y_gru],\n",
    "    \"lstm_prediction\": [value[0] for value in y_lstm],\n",
    "}"
   ],
   "metadata": {
    "collapsed": false,
    "pycharm": {
     "name": "#%%\n"
    }
   }
  },
  {
   "cell_type": "code",
   "execution_count": 54,
   "outputs": [
    {
     "data": {
      "text/plain": "                                              review  true_prediction  simple_rnn_prediction  gru_prediction  lstm_prediction\n0  saw film last night following lot good reviews...                0               0.005363        0.000447         0.000179\n1  never heard larry fessenden judging effort wri...                0               0.048597        0.000035         0.000124\n2  one movies way better turned dread think block...                0               0.858937        0.000197         0.000327\n3  cabinet dr caligari father horror films german...                1               0.117182        0.995627         0.996033\n4  okay hell kind trash watching witches mountain...                0               0.195371        0.000510         0.000086\n5  way confront zabriskie point rational standpoi...                1               0.998238        0.999901         0.686830\n6  trying track film googling bad phrases teenage...                0               0.032239        0.000886         0.000143\n7  wanting make holmes doors pun quite string tog...                0               0.003139        0.000029         0.000075\n8  movie tired yet weirdly childish clich nazi wi...                0               0.002434        0.000019         0.000098\n9  seen miracles still happen least four times ne...                1               0.996378        0.999995         0.999910",
      "text/html": "<div>\n<style scoped>\n    .dataframe tbody tr th:only-of-type {\n        vertical-align: middle;\n    }\n\n    .dataframe tbody tr th {\n        vertical-align: top;\n    }\n\n    .dataframe thead th {\n        text-align: right;\n    }\n</style>\n<table border=\"1\" class=\"dataframe\">\n  <thead>\n    <tr style=\"text-align: right;\">\n      <th></th>\n      <th>review</th>\n      <th>true_prediction</th>\n      <th>simple_rnn_prediction</th>\n      <th>gru_prediction</th>\n      <th>lstm_prediction</th>\n    </tr>\n  </thead>\n  <tbody>\n    <tr>\n      <th>0</th>\n      <td>saw film last night following lot good reviews...</td>\n      <td>0</td>\n      <td>0.005363</td>\n      <td>0.000447</td>\n      <td>0.000179</td>\n    </tr>\n    <tr>\n      <th>1</th>\n      <td>never heard larry fessenden judging effort wri...</td>\n      <td>0</td>\n      <td>0.048597</td>\n      <td>0.000035</td>\n      <td>0.000124</td>\n    </tr>\n    <tr>\n      <th>2</th>\n      <td>one movies way better turned dread think block...</td>\n      <td>0</td>\n      <td>0.858937</td>\n      <td>0.000197</td>\n      <td>0.000327</td>\n    </tr>\n    <tr>\n      <th>3</th>\n      <td>cabinet dr caligari father horror films german...</td>\n      <td>1</td>\n      <td>0.117182</td>\n      <td>0.995627</td>\n      <td>0.996033</td>\n    </tr>\n    <tr>\n      <th>4</th>\n      <td>okay hell kind trash watching witches mountain...</td>\n      <td>0</td>\n      <td>0.195371</td>\n      <td>0.000510</td>\n      <td>0.000086</td>\n    </tr>\n    <tr>\n      <th>5</th>\n      <td>way confront zabriskie point rational standpoi...</td>\n      <td>1</td>\n      <td>0.998238</td>\n      <td>0.999901</td>\n      <td>0.686830</td>\n    </tr>\n    <tr>\n      <th>6</th>\n      <td>trying track film googling bad phrases teenage...</td>\n      <td>0</td>\n      <td>0.032239</td>\n      <td>0.000886</td>\n      <td>0.000143</td>\n    </tr>\n    <tr>\n      <th>7</th>\n      <td>wanting make holmes doors pun quite string tog...</td>\n      <td>0</td>\n      <td>0.003139</td>\n      <td>0.000029</td>\n      <td>0.000075</td>\n    </tr>\n    <tr>\n      <th>8</th>\n      <td>movie tired yet weirdly childish clich nazi wi...</td>\n      <td>0</td>\n      <td>0.002434</td>\n      <td>0.000019</td>\n      <td>0.000098</td>\n    </tr>\n    <tr>\n      <th>9</th>\n      <td>seen miracles still happen least four times ne...</td>\n      <td>1</td>\n      <td>0.996378</td>\n      <td>0.999995</td>\n      <td>0.999910</td>\n    </tr>\n  </tbody>\n</table>\n</div>"
     },
     "execution_count": 54,
     "metadata": {},
     "output_type": "execute_result"
    }
   ],
   "source": [
    "pd.DataFrame(data)"
   ],
   "metadata": {
    "collapsed": false,
    "pycharm": {
     "name": "#%%\n"
    }
   }
  },
  {
   "cell_type": "code",
   "execution_count": null,
   "outputs": [],
   "source": [],
   "metadata": {
    "collapsed": false,
    "pycharm": {
     "name": "#%%\n"
    }
   }
  }
 ],
 "metadata": {
  "kernelspec": {
   "display_name": "Python 3",
   "language": "python",
   "name": "python3"
  },
  "language_info": {
   "codemirror_mode": {
    "name": "ipython",
    "version": 2
   },
   "file_extension": ".py",
   "mimetype": "text/x-python",
   "name": "python",
   "nbconvert_exporter": "python",
   "pygments_lexer": "ipython2",
   "version": "2.7.6"
  }
 },
 "nbformat": 4,
 "nbformat_minor": 0
}