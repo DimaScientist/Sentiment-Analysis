{
 "cells": [
  {
   "cell_type": "markdown",
   "source": [
    "# Анализ тональности текста (Sentiment analysis). Валидация модели\n",
    "\n",
    "В качестве моделей будут рассматриваться рекурентные нейронные сети"
   ],
   "metadata": {
    "collapsed": false,
    "pycharm": {
     "name": "#%% md\n"
    }
   }
  },
  {
   "cell_type": "code",
   "execution_count": null,
   "outputs": [],
   "source": [
    "!pip install -r requirements.txt"
   ],
   "metadata": {
    "collapsed": false,
    "pycharm": {
     "name": "#%%\n",
     "is_executing": true
    }
   }
  },
  {
   "cell_type": "code",
   "execution_count": 2,
   "outputs": [],
   "source": [
    "import pandas as pd\n",
    "import warnings\n",
    "import numpy as np\n",
    "import matplotlib.pyplot as plt\n",
    "import seaborn as sns\n",
    "from sklearn.metrics import roc_curve, roc_auc_score, confusion_matrix\n",
    "\n",
    "\n",
    "warnings.filterwarnings('ignore')\n",
    "np.random.seed(0)\n",
    "\n",
    "def plot_roc_curve(y_pred, y_true) -> None:\n",
    "    fpr, tpr, _ = roc_curve(y_true, y_pred)\n",
    "    plt.plot(fpr, tpr)\n",
    "    plt.axis([0,1,0,1])\n",
    "    plt.title(\"ROC-кривая\")\n",
    "    plt.xlabel('False Positive Rate')\n",
    "    plt.ylabel('True Positive Rate')\n",
    "    plt.show()\n",
    "    print(f\"ROC-AUC Score: {roc_auc_score(y_true, y_pred)}\")\n",
    "\n",
    "def plot_confusion_matrix(y_pred, y_true) -> None:\n",
    "    cf_matrix = confusion_matrix(y_true, y_pred)\n",
    "    ax = sns.heatmap(cf_matrix, annot=True, cmap=\"Blues\")\n",
    "    ax.set_title(\"Матрица неточностей\")\n",
    "    ax.set_xlabel(\"Предсказанные значения\")\n",
    "    ax.set_ylabel(\"Действительные значения\")\n",
    "    plt.show()\n",
    "\n",
    "def plot_history_nn(history) -> None:\n",
    "    plt.plot(history.history['accuracy'], label=\"Точность на обучающем наборе\")\n",
    "    plt.plot(history.history['val_accuracy'], label=\"Точность на проверочном наборе\")\n",
    "    plt.xlabel(\"Эпоха обучения\")\n",
    "    plt.ylabel(\"Точность\")\n",
    "    plt.legend()\n",
    "    plt.show()"
   ],
   "metadata": {
    "collapsed": false,
    "pycharm": {
     "name": "#%%\n"
    }
   }
  },
  {
   "cell_type": "code",
   "execution_count": 3,
   "outputs": [],
   "source": [
    "train_data = pd.read_csv(\"./data/clear_train_data.csv\")"
   ],
   "metadata": {
    "collapsed": false,
    "pycharm": {
     "name": "#%%\n"
    }
   }
  },
  {
   "cell_type": "code",
   "execution_count": 4,
   "outputs": [
    {
     "data": {
      "text/plain": "                                             comment  toxic\n0                                верблюдов дебилы бл    1.0\n1  хохлы это отдушина затюканого россиянина мол в...    1.0\n2                              собаке собачья смерть    1.0\n3  страницу обнови дебил это оскорбление доказанн...    1.0\n4  убедил страничный пдф скрипалей отравила росси...    1.0",
      "text/html": "<div>\n<style scoped>\n    .dataframe tbody tr th:only-of-type {\n        vertical-align: middle;\n    }\n\n    .dataframe tbody tr th {\n        vertical-align: top;\n    }\n\n    .dataframe thead th {\n        text-align: right;\n    }\n</style>\n<table border=\"1\" class=\"dataframe\">\n  <thead>\n    <tr style=\"text-align: right;\">\n      <th></th>\n      <th>comment</th>\n      <th>toxic</th>\n    </tr>\n  </thead>\n  <tbody>\n    <tr>\n      <th>0</th>\n      <td>верблюдов дебилы бл</td>\n      <td>1.0</td>\n    </tr>\n    <tr>\n      <th>1</th>\n      <td>хохлы это отдушина затюканого россиянина мол в...</td>\n      <td>1.0</td>\n    </tr>\n    <tr>\n      <th>2</th>\n      <td>собаке собачья смерть</td>\n      <td>1.0</td>\n    </tr>\n    <tr>\n      <th>3</th>\n      <td>страницу обнови дебил это оскорбление доказанн...</td>\n      <td>1.0</td>\n    </tr>\n    <tr>\n      <th>4</th>\n      <td>убедил страничный пдф скрипалей отравила росси...</td>\n      <td>1.0</td>\n    </tr>\n  </tbody>\n</table>\n</div>"
     },
     "execution_count": 4,
     "metadata": {},
     "output_type": "execute_result"
    }
   ],
   "source": [
    "train_data.head()"
   ],
   "metadata": {
    "collapsed": false,
    "pycharm": {
     "name": "#%%\n"
    }
   }
  },
  {
   "cell_type": "code",
   "execution_count": 5,
   "outputs": [],
   "source": [
    "train_data[\"comment\"] = train_data[\"comment\"].astype(str)  # ошибка в токенизации, что возникает где-то float"
   ],
   "metadata": {
    "collapsed": false,
    "pycharm": {
     "name": "#%%\n"
    }
   }
  },
  {
   "cell_type": "code",
   "execution_count": 6,
   "outputs": [
    {
     "data": {
      "text/plain": "(14412, 2)"
     },
     "execution_count": 6,
     "metadata": {},
     "output_type": "execute_result"
    }
   ],
   "source": [
    "train_data.shape"
   ],
   "metadata": {
    "collapsed": false,
    "pycharm": {
     "name": "#%%\n"
    }
   }
  },
  {
   "cell_type": "code",
   "execution_count": 7,
   "outputs": [
    {
     "data": {
      "text/plain": "comment     object\ntoxic      float64\ndtype: object"
     },
     "execution_count": 7,
     "metadata": {},
     "output_type": "execute_result"
    }
   ],
   "source": [
    "train_data.dtypes"
   ],
   "metadata": {
    "collapsed": false,
    "pycharm": {
     "name": "#%%\n"
    }
   }
  },
  {
   "cell_type": "code",
   "execution_count": 8,
   "outputs": [],
   "source": [
    "X = train_data[\"comment\"]\n",
    "y = train_data[\"toxic\"]"
   ],
   "metadata": {
    "collapsed": false,
    "pycharm": {
     "name": "#%%\n"
    }
   }
  },
  {
   "cell_type": "markdown",
   "source": [
    "## Подготовка данных для обучения"
   ],
   "metadata": {
    "collapsed": false,
    "pycharm": {
     "name": "#%% md\n"
    }
   }
  },
  {
   "cell_type": "code",
   "execution_count": 9,
   "outputs": [],
   "source": [
    "from keras.preprocessing.text import Tokenizer\n",
    "from keras.preprocessing.sequence import pad_sequences"
   ],
   "metadata": {
    "collapsed": false,
    "pycharm": {
     "name": "#%%\n"
    }
   }
  },
  {
   "cell_type": "code",
   "execution_count": 10,
   "outputs": [],
   "source": [
    "# разбиваем текст на токены и создаем их последовательности\n",
    "tokenizer = Tokenizer()\n",
    "tokenizer.fit_on_texts(X)\n",
    "X_clean = pad_sequences(tokenizer.texts_to_sequences(X))"
   ],
   "metadata": {
    "collapsed": false,
    "pycharm": {
     "name": "#%%\n"
    }
   }
  },
  {
   "cell_type": "code",
   "execution_count": 11,
   "outputs": [],
   "source": [
    "# разобьем выборку на обучающую и проверочную\n",
    "from sklearn.model_selection import train_test_split\n",
    "\n",
    "X_train, X_val, y_train, y_val = train_test_split(X_clean, y, test_size=0.5)"
   ],
   "metadata": {
    "collapsed": false,
    "pycharm": {
     "name": "#%%\n"
    }
   }
  },
  {
   "cell_type": "code",
   "execution_count": 12,
   "outputs": [
    {
     "data": {
      "text/plain": "array([[    0,     0,     0, ..., 18290, 12696,  7832],\n       [    0,     0,     0, ...,  6590,  5773,   374],\n       [    0,     0,     0, ..., 19772,   731, 21390],\n       ...,\n       [    0,     0,     0, ..., 62227, 25778, 12904],\n       [    0,     0,     0, ..., 15240,  2553, 21485],\n       [    0,     0,     0, ...,  9086,  3641,  2540]])"
     },
     "execution_count": 12,
     "metadata": {},
     "output_type": "execute_result"
    }
   ],
   "source": [
    "X_train[:10]"
   ],
   "metadata": {
    "collapsed": false,
    "pycharm": {
     "name": "#%%\n"
    }
   }
  },
  {
   "cell_type": "code",
   "execution_count": 13,
   "outputs": [
    {
     "data": {
      "text/plain": "(7206, 796)"
     },
     "execution_count": 13,
     "metadata": {},
     "output_type": "execute_result"
    }
   ],
   "source": [
    "X_train.shape"
   ],
   "metadata": {
    "collapsed": false,
    "pycharm": {
     "name": "#%%\n"
    }
   }
  },
  {
   "cell_type": "code",
   "execution_count": 14,
   "outputs": [
    {
     "data": {
      "text/plain": "(7206,)"
     },
     "execution_count": 14,
     "metadata": {},
     "output_type": "execute_result"
    }
   ],
   "source": [
    "y_train.shape"
   ],
   "metadata": {
    "collapsed": false,
    "pycharm": {
     "name": "#%%\n"
    }
   }
  },
  {
   "cell_type": "code",
   "execution_count": 15,
   "outputs": [
    {
     "data": {
      "text/plain": "(7206, 796)"
     },
     "execution_count": 15,
     "metadata": {},
     "output_type": "execute_result"
    }
   ],
   "source": [
    "X_val.shape"
   ],
   "metadata": {
    "collapsed": false,
    "pycharm": {
     "name": "#%%\n"
    }
   }
  },
  {
   "cell_type": "markdown",
   "source": [
    "## Создание и валидация моделей"
   ],
   "metadata": {
    "collapsed": false,
    "pycharm": {
     "name": "#%% md\n"
    }
   }
  },
  {
   "cell_type": "code",
   "execution_count": 16,
   "outputs": [],
   "source": [
    "from keras.models import Sequential\n",
    "from keras.layers import (\n",
    "    Dense,\n",
    "    Embedding,\n",
    "    LSTM,\n",
    "    GRU,\n",
    "    SimpleRNN,\n",
    ")"
   ],
   "metadata": {
    "collapsed": false,
    "pycharm": {
     "name": "#%%\n"
    }
   }
  },
  {
   "cell_type": "markdown",
   "source": [
    "### Простая рекурентная нейронная сеть"
   ],
   "metadata": {
    "collapsed": false,
    "pycharm": {
     "name": "#%% md\n"
    }
   }
  },
  {
   "cell_type": "code",
   "execution_count": 17,
   "outputs": [],
   "source": [
    "max_words = 100000\n",
    "\n",
    "simple_model = Sequential()\n",
    "simple_model.add(Embedding(max_words, 128))\n",
    "simple_model.add(SimpleRNN(32, recurrent_dropout = 0.2))\n",
    "simple_model.add(Dense(1, activation=\"sigmoid\"))\n",
    "simple_model._estimator_type = \"classifier\""
   ],
   "metadata": {
    "collapsed": false,
    "pycharm": {
     "name": "#%%\n"
    }
   }
  },
  {
   "cell_type": "code",
   "execution_count": 18,
   "outputs": [],
   "source": [
    "simple_model.compile(optimizer='rmsprop',  loss='binary_crossentropy', metrics=['accuracy'])"
   ],
   "metadata": {
    "collapsed": false,
    "pycharm": {
     "name": "#%%\n"
    }
   }
  },
  {
   "cell_type": "code",
   "execution_count": 19,
   "outputs": [
    {
     "name": "stdout",
     "output_type": "stream",
     "text": [
      "Model: \"sequential\"\n",
      "_________________________________________________________________\n",
      " Layer (type)                Output Shape              Param #   \n",
      "=================================================================\n",
      " embedding (Embedding)       (None, None, 128)         12800000  \n",
      "                                                                 \n",
      " simple_rnn (SimpleRNN)      (None, 32)                5152      \n",
      "                                                                 \n",
      " dense (Dense)               (None, 1)                 33        \n",
      "                                                                 \n",
      "=================================================================\n",
      "Total params: 12,805,185\n",
      "Trainable params: 12,805,185\n",
      "Non-trainable params: 0\n",
      "_________________________________________________________________\n"
     ]
    }
   ],
   "source": [
    "simple_model.summary()"
   ],
   "metadata": {
    "collapsed": false,
    "pycharm": {
     "name": "#%%\n"
    }
   }
  },
  {
   "cell_type": "code",
   "execution_count": 20,
   "outputs": [
    {
     "name": "stdout",
     "output_type": "stream",
     "text": [
      "Epoch 1/10\n",
      "51/51 [==============================] - 24s 449ms/step - loss: 0.6847 - accuracy: 0.5599 - val_loss: 0.6438 - val_accuracy: 0.6380\n",
      "Epoch 2/10\n",
      "51/51 [==============================] - 23s 444ms/step - loss: 0.5700 - accuracy: 0.7153 - val_loss: 0.5869 - val_accuracy: 0.6810\n",
      "Epoch 3/10\n",
      "51/51 [==============================] - 22s 438ms/step - loss: 0.4026 - accuracy: 0.8384 - val_loss: 0.5148 - val_accuracy: 0.7490\n",
      "Epoch 4/10\n",
      "51/51 [==============================] - 22s 434ms/step - loss: 0.2293 - accuracy: 0.9278 - val_loss: 0.4405 - val_accuracy: 0.8017\n",
      "Epoch 5/10\n",
      "51/51 [==============================] - 23s 448ms/step - loss: 0.1342 - accuracy: 0.9588 - val_loss: 0.4605 - val_accuracy: 0.8031\n",
      "Epoch 6/10\n",
      "51/51 [==============================] - 23s 442ms/step - loss: 0.0801 - accuracy: 0.9773 - val_loss: 0.4623 - val_accuracy: 0.8225\n",
      "Epoch 7/10\n",
      "51/51 [==============================] - 23s 443ms/step - loss: 0.0420 - accuracy: 0.9883 - val_loss: 0.4960 - val_accuracy: 0.8058\n",
      "Epoch 8/10\n",
      "51/51 [==============================] - 23s 455ms/step - loss: 0.0253 - accuracy: 0.9940 - val_loss: 0.5512 - val_accuracy: 0.7975\n",
      "Epoch 9/10\n",
      "51/51 [==============================] - 23s 441ms/step - loss: 0.0179 - accuracy: 0.9954 - val_loss: 0.5717 - val_accuracy: 0.8003\n",
      "Epoch 10/10\n",
      "51/51 [==============================] - 24s 473ms/step - loss: 0.0141 - accuracy: 0.9954 - val_loss: 0.6357 - val_accuracy: 0.7906\n"
     ]
    }
   ],
   "source": [
    "history = simple_model.fit(X_train, y_train, epochs=10, batch_size=128, validation_split=0.1)"
   ],
   "metadata": {
    "collapsed": false,
    "pycharm": {
     "name": "#%%\n"
    }
   }
  },
  {
   "cell_type": "code",
   "execution_count": 21,
   "outputs": [
    {
     "data": {
      "text/plain": "<Figure size 432x288 with 1 Axes>",
      "image/png": "[encoded data removed]"
     },
     "metadata": {
      "needs_background": "light"
     },
     "output_type": "display_data"
    }
   ],
   "source": [
    "plot_history_nn(history)"
   ],
   "metadata": {
    "collapsed": false,
    "pycharm": {
     "name": "#%%\n"
    }
   }
  },
  {
   "cell_type": "code",
   "execution_count": 22,
   "outputs": [],
   "source": [
    "y_pred = simple_model.predict(X_val)"
   ],
   "metadata": {
    "collapsed": false,
    "pycharm": {
     "name": "#%%\n"
    }
   }
  },
  {
   "cell_type": "code",
   "execution_count": 23,
   "outputs": [
    {
     "data": {
      "text/plain": "<Figure size 432x288 with 1 Axes>",
      "image/png": "[encoded data removed]"
     },
     "metadata": {
      "needs_background": "light"
     },
     "output_type": "display_data"
    },
    {
     "name": "stdout",
     "output_type": "stream",
     "text": [
      "ROC-AUC Score: 0.8330023083462194\n"
     ]
    }
   ],
   "source": [
    "plot_roc_curve(y_pred, y_val)"
   ],
   "metadata": {
    "collapsed": false,
    "pycharm": {
     "name": "#%%\n"
    }
   }
  },
  {
   "cell_type": "code",
   "execution_count": 24,
   "outputs": [
    {
     "data": {
      "text/plain": "<Figure size 432x288 with 2 Axes>",
      "image/png": "[encoded data removed]"
     },
     "metadata": {
      "needs_background": "light"
     },
     "output_type": "display_data"
    }
   ],
   "source": [
    "y_pred_int = [1 if pred[0] > 0.5 else 0 for pred in y_pred]  # так как предсказания в интервале 0 и 1, то будем считать, что 1 - больше 0.5, иначе - 0\n",
    "plot_confusion_matrix(y_pred_int, y_val)"
   ],
   "metadata": {
    "collapsed": false,
    "pycharm": {
     "name": "#%%\n"
    }
   }
  },
  {
   "cell_type": "markdown",
   "source": [
    "### Реккурентная сеть со слоем LSTM"
   ],
   "metadata": {
    "collapsed": false,
    "pycharm": {
     "name": "#%% md\n"
    }
   }
  },
  {
   "cell_type": "code",
   "execution_count": 25,
   "outputs": [],
   "source": [
    "model_lstm = Sequential()\n",
    "model_lstm.add(Embedding(max_words, 128))\n",
    "model_lstm.add(LSTM(32, recurrent_dropout = 0.2))\n",
    "model_lstm.add(Dense(1, activation=\"sigmoid\"))\n",
    "\n",
    "model_lstm.compile(optimizer='rmsprop',  loss='binary_crossentropy', metrics=['accuracy'])"
   ],
   "metadata": {
    "collapsed": false,
    "pycharm": {
     "name": "#%%\n"
    }
   }
  },
  {
   "cell_type": "code",
   "execution_count": 26,
   "outputs": [
    {
     "name": "stdout",
     "output_type": "stream",
     "text": [
      "Model: \"sequential_1\"\n",
      "_________________________________________________________________\n",
      " Layer (type)                Output Shape              Param #   \n",
      "=================================================================\n",
      " embedding_1 (Embedding)     (None, None, 128)         12800000  \n",
      "                                                                 \n",
      " lstm (LSTM)                 (None, 32)                20608     \n",
      "                                                                 \n",
      " dense_1 (Dense)             (None, 1)                 33        \n",
      "                                                                 \n",
      "=================================================================\n",
      "Total params: 12,820,641\n",
      "Trainable params: 12,820,641\n",
      "Non-trainable params: 0\n",
      "_________________________________________________________________\n"
     ]
    }
   ],
   "source": [
    "model_lstm.summary()"
   ],
   "metadata": {
    "collapsed": false,
    "pycharm": {
     "name": "#%%\n"
    }
   }
  },
  {
   "cell_type": "code",
   "execution_count": 27,
   "outputs": [
    {
     "name": "stdout",
     "output_type": "stream",
     "text": [
      "Epoch 1/10\n",
      "51/51 [==============================] - 65s 1s/step - loss: 0.6098 - accuracy: 0.6754 - val_loss: 0.5661 - val_accuracy: 0.6921\n",
      "Epoch 2/10\n",
      "51/51 [==============================] - 62s 1s/step - loss: 0.3757 - accuracy: 0.8567 - val_loss: 0.4526 - val_accuracy: 0.7767\n",
      "Epoch 3/10\n",
      "51/51 [==============================] - 63s 1s/step - loss: 0.1973 - accuracy: 0.9451 - val_loss: 0.4043 - val_accuracy: 0.8308\n",
      "Epoch 4/10\n",
      "51/51 [==============================] - 63s 1s/step - loss: 0.1176 - accuracy: 0.9758 - val_loss: 0.3914 - val_accuracy: 0.8613\n",
      "Epoch 5/10\n",
      "51/51 [==============================] - 64s 1s/step - loss: 0.0658 - accuracy: 0.9867 - val_loss: 0.4052 - val_accuracy: 0.8558\n",
      "Epoch 6/10\n",
      "51/51 [==============================] - 63s 1s/step - loss: 0.0378 - accuracy: 0.9911 - val_loss: 0.4328 - val_accuracy: 0.8530\n",
      "Epoch 7/10\n",
      "51/51 [==============================] - 66s 1s/step - loss: 0.0246 - accuracy: 0.9934 - val_loss: 0.4753 - val_accuracy: 0.8571\n",
      "Epoch 8/10\n",
      "51/51 [==============================] - 66s 1s/step - loss: 0.0187 - accuracy: 0.9949 - val_loss: 0.5155 - val_accuracy: 0.8419\n",
      "Epoch 9/10\n",
      "51/51 [==============================] - 64s 1s/step - loss: 0.0126 - accuracy: 0.9960 - val_loss: 0.5371 - val_accuracy: 0.8391\n",
      "Epoch 10/10\n",
      "51/51 [==============================] - 62s 1s/step - loss: 0.0097 - accuracy: 0.9966 - val_loss: 0.5714 - val_accuracy: 0.8516\n"
     ]
    }
   ],
   "source": [
    "history = model_lstm.fit(X_train, y_train, epochs=10, batch_size=128, validation_split=0.1)"
   ],
   "metadata": {
    "collapsed": false,
    "pycharm": {
     "name": "#%%\n"
    }
   }
  },
  {
   "cell_type": "code",
   "execution_count": 28,
   "outputs": [
    {
     "data": {
      "text/plain": "<Figure size 432x288 with 1 Axes>",
      "image/png": "[encoded data removed]"
     },
     "metadata": {
      "needs_background": "light"
     },
     "output_type": "display_data"
    }
   ],
   "source": [
    "plot_history_nn(history)"
   ],
   "metadata": {
    "collapsed": false,
    "pycharm": {
     "name": "#%%\n"
    }
   }
  },
  {
   "cell_type": "code",
   "execution_count": 29,
   "outputs": [],
   "source": [
    "y_pred = model_lstm.predict(X_val)"
   ],
   "metadata": {
    "collapsed": false,
    "pycharm": {
     "name": "#%%\n"
    }
   }
  },
  {
   "cell_type": "code",
   "execution_count": 30,
   "outputs": [
    {
     "data": {
      "text/plain": "<Figure size 432x288 with 1 Axes>",
      "image/png": "[encoded data removed]"
     },
     "metadata": {
      "needs_background": "light"
     },
     "output_type": "display_data"
    },
    {
     "name": "stdout",
     "output_type": "stream",
     "text": [
      "ROC-AUC Score: 0.9065345807298514\n"
     ]
    }
   ],
   "source": [
    "plot_roc_curve(y_pred, y_val)"
   ],
   "metadata": {
    "collapsed": false,
    "pycharm": {
     "name": "#%%\n"
    }
   }
  },
  {
   "cell_type": "code",
   "execution_count": 31,
   "outputs": [
    {
     "data": {
      "text/plain": "<Figure size 432x288 with 2 Axes>",
      "image/png": "[encoded data removed]"
     },
     "metadata": {
      "needs_background": "light"
     },
     "output_type": "display_data"
    }
   ],
   "source": [
    "y_pred_int = [1 if pred[0] > 0.5 else 0 for pred in y_pred]  # так как предсказания в интервале 0 и 1, то будем считать, что 1 - больше 0.5, иначе - 0\n",
    "plot_confusion_matrix(y_pred_int, y_val)"
   ],
   "metadata": {
    "collapsed": false,
    "pycharm": {
     "name": "#%%\n"
    }
   }
  },
  {
   "cell_type": "markdown",
   "source": [
    "### Реккурентная сеть со слоем GRU"
   ],
   "metadata": {
    "collapsed": false,
    "pycharm": {
     "name": "#%% md\n"
    }
   }
  },
  {
   "cell_type": "code",
   "execution_count": 32,
   "outputs": [],
   "source": [
    "model_gru = Sequential()\n",
    "model_gru.add(Embedding(max_words, 128))\n",
    "model_gru.add(GRU(32, recurrent_dropout = 0.2))\n",
    "model_gru.add(Dense(1, activation=\"sigmoid\"))\n",
    "\n",
    "model_gru.compile(optimizer='rmsprop',  loss='binary_crossentropy', metrics=['accuracy'])"
   ],
   "metadata": {
    "collapsed": false,
    "pycharm": {
     "name": "#%%\n"
    }
   }
  },
  {
   "cell_type": "code",
   "execution_count": 33,
   "outputs": [
    {
     "name": "stdout",
     "output_type": "stream",
     "text": [
      "Model: \"sequential_2\"\n",
      "_________________________________________________________________\n",
      " Layer (type)                Output Shape              Param #   \n",
      "=================================================================\n",
      " embedding_2 (Embedding)     (None, None, 128)         12800000  \n",
      "                                                                 \n",
      " gru (GRU)                   (None, 32)                15552     \n",
      "                                                                 \n",
      " dense_2 (Dense)             (None, 1)                 33        \n",
      "                                                                 \n",
      "=================================================================\n",
      "Total params: 12,815,585\n",
      "Trainable params: 12,815,585\n",
      "Non-trainable params: 0\n",
      "_________________________________________________________________\n"
     ]
    }
   ],
   "source": [
    "model_gru.summary()"
   ],
   "metadata": {
    "collapsed": false,
    "pycharm": {
     "name": "#%%\n"
    }
   }
  },
  {
   "cell_type": "code",
   "execution_count": 34,
   "outputs": [
    {
     "name": "stdout",
     "output_type": "stream",
     "text": [
      "Epoch 1/10\n",
      "51/51 [==============================] - 52s 989ms/step - loss: 0.5892 - accuracy: 0.6808 - val_loss: 0.5237 - val_accuracy: 0.7642\n",
      "Epoch 2/10\n",
      "51/51 [==============================] - 53s 1s/step - loss: 0.3141 - accuracy: 0.8992 - val_loss: 0.4722 - val_accuracy: 0.7892\n",
      "Epoch 3/10\n",
      "51/51 [==============================] - 52s 1s/step - loss: 0.1446 - accuracy: 0.9614 - val_loss: 0.4413 - val_accuracy: 0.7989\n",
      "Epoch 4/10\n",
      "51/51 [==============================] - 53s 1s/step - loss: 0.0748 - accuracy: 0.9798 - val_loss: 0.4451 - val_accuracy: 0.8405\n",
      "Epoch 5/10\n",
      "51/51 [==============================] - 52s 1s/step - loss: 0.0372 - accuracy: 0.9917 - val_loss: 0.4799 - val_accuracy: 0.8322\n",
      "Epoch 6/10\n",
      "51/51 [==============================] - 52s 1s/step - loss: 0.0219 - accuracy: 0.9938 - val_loss: 0.5526 - val_accuracy: 0.8322\n",
      "Epoch 7/10\n",
      "51/51 [==============================] - 51s 1s/step - loss: 0.0148 - accuracy: 0.9960 - val_loss: 0.5884 - val_accuracy: 0.8211\n",
      "Epoch 8/10\n",
      "51/51 [==============================] - 52s 1s/step - loss: 0.0103 - accuracy: 0.9963 - val_loss: 0.6359 - val_accuracy: 0.8239\n",
      "Epoch 9/10\n",
      "51/51 [==============================] - 50s 989ms/step - loss: 0.0090 - accuracy: 0.9968 - val_loss: 0.6731 - val_accuracy: 0.8003\n",
      "Epoch 10/10\n",
      "51/51 [==============================] - 51s 1s/step - loss: 0.0070 - accuracy: 0.9971 - val_loss: 0.7161 - val_accuracy: 0.7947\n"
     ]
    }
   ],
   "source": [
    "history = model_gru.fit(X_train, y_train, epochs=10, batch_size=128, validation_split=0.1)"
   ],
   "metadata": {
    "collapsed": false,
    "pycharm": {
     "name": "#%%\n"
    }
   }
  },
  {
   "cell_type": "code",
   "execution_count": 35,
   "outputs": [
    {
     "data": {
      "text/plain": "<Figure size 432x288 with 1 Axes>",
      "image/png": "[encoded data removed]"
     },
     "metadata": {
      "needs_background": "light"
     },
     "output_type": "display_data"
    }
   ],
   "source": [
    "plot_history_nn(history)"
   ],
   "metadata": {
    "collapsed": false,
    "pycharm": {
     "name": "#%%\n"
    }
   }
  },
  {
   "cell_type": "code",
   "execution_count": 36,
   "outputs": [],
   "source": [
    "y_pred = model_gru.predict(X_val)"
   ],
   "metadata": {
    "collapsed": false,
    "pycharm": {
     "name": "#%%\n"
    }
   }
  },
  {
   "cell_type": "code",
   "execution_count": 37,
   "outputs": [
    {
     "data": {
      "text/plain": "<Figure size 432x288 with 1 Axes>",
      "image/png": "[encoded data removed]"
     },
     "metadata": {
      "needs_background": "light"
     },
     "output_type": "display_data"
    },
    {
     "name": "stdout",
     "output_type": "stream",
     "text": [
      "ROC-AUC Score: 0.8708514281490476\n"
     ]
    }
   ],
   "source": [
    "plot_roc_curve(y_pred, y_val)"
   ],
   "metadata": {
    "collapsed": false,
    "pycharm": {
     "name": "#%%\n"
    }
   }
  },
  {
   "cell_type": "code",
   "execution_count": 38,
   "outputs": [
    {
     "data": {
      "text/plain": "<Figure size 432x288 with 2 Axes>",
      "image/png": "[encoded data removed]"
     },
     "metadata": {
      "needs_background": "light"
     },
     "output_type": "display_data"
    }
   ],
   "source": [
    "y_pred_int = [1 if pred[0] > 0.5 else 0 for pred in y_pred]  # так как предсказания в интервале 0 и 1, то будем считать, что 1 - больше 0.5, иначе - 0\n",
    "plot_confusion_matrix(y_pred_int, y_val)"
   ],
   "metadata": {
    "collapsed": false,
    "pycharm": {
     "name": "#%%\n"
    }
   }
  },
  {
   "cell_type": "markdown",
   "source": [
    "## Примеры"
   ],
   "metadata": {
    "collapsed": false,
    "pycharm": {
     "name": "#%% md\n"
    }
   }
  },
  {
   "cell_type": "code",
   "execution_count": 40,
   "outputs": [],
   "source": [
    "sample_data = train_data.sample(10)\n",
    "X_sample = sample_data[\"comment\"]\n",
    "X_sample = pad_sequences(tokenizer.texts_to_sequences(X_sample))"
   ],
   "metadata": {
    "collapsed": false,
    "pycharm": {
     "name": "#%%\n"
    }
   }
  },
  {
   "cell_type": "code",
   "execution_count": 41,
   "outputs": [],
   "source": [
    "y_simple_rnn = simple_model.predict(X_sample)\n",
    "y_gru = model_gru.predict(X_sample)\n",
    "y_lstm = model_lstm.predict(X_sample)"
   ],
   "metadata": {
    "collapsed": false,
    "pycharm": {
     "name": "#%%\n"
    }
   }
  },
  {
   "cell_type": "code",
   "execution_count": 42,
   "outputs": [],
   "source": [
    "data = {\n",
    "    \"comment\": sample_data[\"comment\"].to_list(),\n",
    "    \"true_prediction\": sample_data[\"toxic\"].to_list(),\n",
    "    \"simple_rnn_prediction\": [value[0] for value in y_simple_rnn],\n",
    "    \"gru_prediction\": [value[0] for value in y_gru],\n",
    "    \"lstm_prediction\": [value[0] for value in y_lstm],\n",
    "}"
   ],
   "metadata": {
    "collapsed": false,
    "pycharm": {
     "name": "#%%\n"
    }
   }
  },
  {
   "cell_type": "code",
   "execution_count": 43,
   "outputs": [
    {
     "data": {
      "text/plain": "                                             comment  true_prediction  \\\n0  скрутка самый долговечный способ археологи нах...              0.0   \n1  ебись времена трехфазным током сильно скучаешь...              0.0   \n2  смысле штатах игра выходит скидкой это крупней...              0.0   \n3                                курсанты записаться              0.0   \n4  поймали коррупционера зарплате иметь квартиру ...              0.0   \n5  дома холодильник лет работал фазе земле устана...              0.0   \n6                 извини тебе грязном ходить приятно              0.0   \n7  потомок крепостного быдла это казанских татар ...              1.0   \n8  курение замедляет процесс заживления насколько...              0.0   \n9             время высыпаний могут определить вирус              0.0   \n\n   simple_rnn_prediction  gru_prediction  lstm_prediction  \n0               0.000051        0.000009         0.000068  \n1               0.000375        0.000077         0.000180  \n2               0.003065        0.000159         0.000369  \n3               0.017536        0.115222         0.131982  \n4               0.000550        0.000032         0.000120  \n5               0.000384        0.000128         0.000057  \n6               0.978548        0.997475         0.975283  \n7               0.994861        0.999637         0.999589  \n8               0.000111        0.000004         0.000097  \n9               0.046780        0.120331         0.001389  ",
      "text/html": "<div>\n<style scoped>\n    .dataframe tbody tr th:only-of-type {\n        vertical-align: middle;\n    }\n\n    .dataframe tbody tr th {\n        vertical-align: top;\n    }\n\n    .dataframe thead th {\n        text-align: right;\n    }\n</style>\n<table border=\"1\" class=\"dataframe\">\n  <thead>\n    <tr style=\"text-align: right;\">\n      <th></th>\n      <th>comment</th>\n      <th>true_prediction</th>\n      <th>simple_rnn_prediction</th>\n      <th>gru_prediction</th>\n      <th>lstm_prediction</th>\n    </tr>\n  </thead>\n  <tbody>\n    <tr>\n      <th>0</th>\n      <td>скрутка самый долговечный способ археологи нах...</td>\n      <td>0.0</td>\n      <td>0.000051</td>\n      <td>0.000009</td>\n      <td>0.000068</td>\n    </tr>\n    <tr>\n      <th>1</th>\n      <td>ебись времена трехфазным током сильно скучаешь...</td>\n      <td>0.0</td>\n      <td>0.000375</td>\n      <td>0.000077</td>\n      <td>0.000180</td>\n    </tr>\n    <tr>\n      <th>2</th>\n      <td>смысле штатах игра выходит скидкой это крупней...</td>\n      <td>0.0</td>\n      <td>0.003065</td>\n      <td>0.000159</td>\n      <td>0.000369</td>\n    </tr>\n    <tr>\n      <th>3</th>\n      <td>курсанты записаться</td>\n      <td>0.0</td>\n      <td>0.017536</td>\n      <td>0.115222</td>\n      <td>0.131982</td>\n    </tr>\n    <tr>\n      <th>4</th>\n      <td>поймали коррупционера зарплате иметь квартиру ...</td>\n      <td>0.0</td>\n      <td>0.000550</td>\n      <td>0.000032</td>\n      <td>0.000120</td>\n    </tr>\n    <tr>\n      <th>5</th>\n      <td>дома холодильник лет работал фазе земле устана...</td>\n      <td>0.0</td>\n      <td>0.000384</td>\n      <td>0.000128</td>\n      <td>0.000057</td>\n    </tr>\n    <tr>\n      <th>6</th>\n      <td>извини тебе грязном ходить приятно</td>\n      <td>0.0</td>\n      <td>0.978548</td>\n      <td>0.997475</td>\n      <td>0.975283</td>\n    </tr>\n    <tr>\n      <th>7</th>\n      <td>потомок крепостного быдла это казанских татар ...</td>\n      <td>1.0</td>\n      <td>0.994861</td>\n      <td>0.999637</td>\n      <td>0.999589</td>\n    </tr>\n    <tr>\n      <th>8</th>\n      <td>курение замедляет процесс заживления насколько...</td>\n      <td>0.0</td>\n      <td>0.000111</td>\n      <td>0.000004</td>\n      <td>0.000097</td>\n    </tr>\n    <tr>\n      <th>9</th>\n      <td>время высыпаний могут определить вирус</td>\n      <td>0.0</td>\n      <td>0.046780</td>\n      <td>0.120331</td>\n      <td>0.001389</td>\n    </tr>\n  </tbody>\n</table>\n</div>"
     },
     "execution_count": 43,
     "metadata": {},
     "output_type": "execute_result"
    }
   ],
   "source": [
    "pd.DataFrame(data)"
   ],
   "metadata": {
    "collapsed": false,
    "pycharm": {
     "name": "#%%\n"
    }
   }
  },
  {
   "cell_type": "code",
   "execution_count": null,
   "outputs": [],
   "source": [],
   "metadata": {
    "collapsed": false,
    "pycharm": {
     "name": "#%%\n"
    }
   }
  }
 ],
 "metadata": {
  "kernelspec": {
   "display_name": "Python 3",
   "language": "python",
   "name": "python3"
  },
  "language_info": {
   "codemirror_mode": {
    "name": "ipython",
    "version": 2
   },
   "file_extension": ".py",
   "mimetype": "text/x-python",
   "name": "python",
   "nbconvert_exporter": "python",
   "pygments_lexer": "ipython2",
   "version": "2.7.6"
  }
 },
 "nbformat": 4,
 "nbformat_minor": 0
}