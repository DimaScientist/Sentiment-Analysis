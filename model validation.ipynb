{
 "cells": [
  {
   "cell_type": "markdown",
   "source": [
    "# Анализ тональности текста (Sentiment analysis). Валидация модели\n",
    "\n",
    "В качестве моделей будут рассматриваться рекурентные нейронные сети"
   ],
   "metadata": {
    "collapsed": false,
    "pycharm": {
     "name": "#%% md\n"
    }
   }
  },
  {
   "cell_type": "code",
   "execution_count": null,
   "outputs": [],
   "source": [
    "!pip install -r requirements.txt"
   ],
   "metadata": {
    "collapsed": false,
    "pycharm": {
     "name": "#%%\n",
     "is_executing": true
    }
   }
  },
  {
   "cell_type": "code",
   "execution_count": 3,
   "outputs": [],
   "source": [
    "import pandas as pd\n",
    "import warnings\n",
    "import numpy as np\n",
    "import matplotlib.pyplot as plt\n",
    "import seaborn as sns\n",
    "from sklearn.metrics import roc_curve, roc_auc_score, confusion_matrix\n",
    "\n",
    "\n",
    "warnings.filterwarnings('ignore')\n",
    "np.random.seed(0)\n",
    "\n",
    "def plot_roc_curve(y_pred, y_true) -> None:\n",
    "    fpr, tpr, _ = roc_curve(y_true, y_pred)\n",
    "    plt.plot(fpr, tpr)\n",
    "    plt.axis([0,1,0,1])\n",
    "    plt.title(\"ROC-кривая\")\n",
    "    plt.xlabel('False Positive Rate')\n",
    "    plt.ylabel('True Positive Rate')\n",
    "    plt.show()\n",
    "    print(f\"ROC-AUC Score: {roc_auc_score(y_true, y_pred)}\")\n",
    "\n",
    "def plot_confusion_matrix(y_pred, y_true) -> None:\n",
    "    cf_matrix = confusion_matrix(y_true, y_pred)\n",
    "    ax = sns.heatmap(cf_matrix, annot=True, cmap=\"Blues\")\n",
    "    ax.set_title(\"Матрица неточностей\")\n",
    "    ax.set_xlabel(\"Предсказанные значения\")\n",
    "    ax.set_ylabel(\"Действительные значения\")\n",
    "    plt.show()\n",
    "\n",
    "def plot_history_nn(history) -> None:\n",
    "    plt.plot(history.history['accuracy'], label=\"Точность на обучающем наборе\")\n",
    "    plt.plot(history.history['val_accuracy'], label=\"Точность на проверочном наборе\")\n",
    "    plt.xlabel(\"Эпоха обучения\")\n",
    "    plt.ylabel(\"Точность\")\n",
    "    plt.legend()\n",
    "    plt.show()"
   ],
   "metadata": {
    "collapsed": false,
    "pycharm": {
     "name": "#%%\n"
    }
   }
  },
  {
   "cell_type": "code",
   "execution_count": 4,
   "outputs": [],
   "source": [
    "train_data = pd.read_csv(\"./data/clear_train_data.csv\")"
   ],
   "metadata": {
    "collapsed": false,
    "pycharm": {
     "name": "#%%\n"
    }
   }
  },
  {
   "cell_type": "code",
   "execution_count": 5,
   "outputs": [
    {
     "data": {
      "text/plain": "   sentiment                                             review\n0          1  stuff going moment mj started listening music ...\n1          1  classic war worlds timothy hines entertaining ...\n2          0  film starts manager nicholas bell giving welco...\n3          0  must assumed praised film greatest filmed oper...\n4          1  superbly trashy wondrously unpretentious explo...",
      "text/html": "<div>\n<style scoped>\n    .dataframe tbody tr th:only-of-type {\n        vertical-align: middle;\n    }\n\n    .dataframe tbody tr th {\n        vertical-align: top;\n    }\n\n    .dataframe thead th {\n        text-align: right;\n    }\n</style>\n<table border=\"1\" class=\"dataframe\">\n  <thead>\n    <tr style=\"text-align: right;\">\n      <th></th>\n      <th>sentiment</th>\n      <th>review</th>\n    </tr>\n  </thead>\n  <tbody>\n    <tr>\n      <th>0</th>\n      <td>1</td>\n      <td>stuff going moment mj started listening music ...</td>\n    </tr>\n    <tr>\n      <th>1</th>\n      <td>1</td>\n      <td>classic war worlds timothy hines entertaining ...</td>\n    </tr>\n    <tr>\n      <th>2</th>\n      <td>0</td>\n      <td>film starts manager nicholas bell giving welco...</td>\n    </tr>\n    <tr>\n      <th>3</th>\n      <td>0</td>\n      <td>must assumed praised film greatest filmed oper...</td>\n    </tr>\n    <tr>\n      <th>4</th>\n      <td>1</td>\n      <td>superbly trashy wondrously unpretentious explo...</td>\n    </tr>\n  </tbody>\n</table>\n</div>"
     },
     "execution_count": 5,
     "metadata": {},
     "output_type": "execute_result"
    }
   ],
   "source": [
    "train_data.head()"
   ],
   "metadata": {
    "collapsed": false,
    "pycharm": {
     "name": "#%%\n"
    }
   }
  },
  {
   "cell_type": "code",
   "execution_count": 6,
   "outputs": [
    {
     "data": {
      "text/plain": "(25000, 2)"
     },
     "execution_count": 6,
     "metadata": {},
     "output_type": "execute_result"
    }
   ],
   "source": [
    "train_data.shape"
   ],
   "metadata": {
    "collapsed": false,
    "pycharm": {
     "name": "#%%\n"
    }
   }
  },
  {
   "cell_type": "code",
   "execution_count": 7,
   "outputs": [],
   "source": [
    "X = train_data[\"review\"]\n",
    "y = train_data[\"sentiment\"]"
   ],
   "metadata": {
    "collapsed": false,
    "pycharm": {
     "name": "#%%\n"
    }
   }
  },
  {
   "cell_type": "markdown",
   "source": [
    "## Подготовка данных для обучения"
   ],
   "metadata": {
    "collapsed": false,
    "pycharm": {
     "name": "#%% md\n"
    }
   }
  },
  {
   "cell_type": "code",
   "execution_count": 8,
   "outputs": [],
   "source": [
    "from keras.preprocessing.text import Tokenizer\n",
    "from keras.preprocessing.sequence import pad_sequences"
   ],
   "metadata": {
    "collapsed": false,
    "pycharm": {
     "name": "#%%\n"
    }
   }
  },
  {
   "cell_type": "code",
   "execution_count": 9,
   "outputs": [],
   "source": [
    "# разбиваем текст на токены и создаем их последовательности\n",
    "tokenizer = Tokenizer()\n",
    "tokenizer.fit_on_texts(X)\n",
    "X_clean= pad_sequences(tokenizer.texts_to_sequences(X))"
   ],
   "metadata": {
    "collapsed": false,
    "pycharm": {
     "name": "#%%\n"
    }
   }
  },
  {
   "cell_type": "code",
   "execution_count": 10,
   "outputs": [],
   "source": [
    "# разобьем выборку на обучающую и проверочную\n",
    "from sklearn.model_selection import train_test_split\n",
    "\n",
    "X_train, X_val, y_train, y_val = train_test_split(X_clean, y, test_size=0.5)"
   ],
   "metadata": {
    "collapsed": false,
    "pycharm": {
     "name": "#%%\n"
    }
   }
  },
  {
   "cell_type": "code",
   "execution_count": 11,
   "outputs": [
    {
     "data": {
      "text/plain": "array([[    0,     0,     0, ...,    11,     2,     5],\n       [    0,     0,     0, ...,  3704,   649,  2041],\n       [    0,     0,     0, ...,   457,  3592,   510],\n       ...,\n       [    0,     0,     0, ...,  1543, 11088,   328],\n       [    0,     0,     0, ...,   346,   326,  4575],\n       [    0,     0,     0, ...,  4593,     1,  9407]])"
     },
     "execution_count": 11,
     "metadata": {},
     "output_type": "execute_result"
    }
   ],
   "source": [
    "X_train[:10]"
   ],
   "metadata": {
    "collapsed": false,
    "pycharm": {
     "name": "#%%\n"
    }
   }
  },
  {
   "cell_type": "code",
   "execution_count": 12,
   "outputs": [
    {
     "data": {
      "text/plain": "(12500, 1416)"
     },
     "execution_count": 12,
     "metadata": {},
     "output_type": "execute_result"
    }
   ],
   "source": [
    "X_train.shape"
   ],
   "metadata": {
    "collapsed": false,
    "pycharm": {
     "name": "#%%\n"
    }
   }
  },
  {
   "cell_type": "code",
   "execution_count": 13,
   "outputs": [
    {
     "data": {
      "text/plain": "(12500,)"
     },
     "execution_count": 13,
     "metadata": {},
     "output_type": "execute_result"
    }
   ],
   "source": [
    "y_train.shape"
   ],
   "metadata": {
    "collapsed": false,
    "pycharm": {
     "name": "#%%\n"
    }
   }
  },
  {
   "cell_type": "code",
   "execution_count": 14,
   "outputs": [
    {
     "data": {
      "text/plain": "(12500, 1416)"
     },
     "execution_count": 14,
     "metadata": {},
     "output_type": "execute_result"
    }
   ],
   "source": [
    "X_val.shape"
   ],
   "metadata": {
    "collapsed": false,
    "pycharm": {
     "name": "#%%\n"
    }
   }
  },
  {
   "cell_type": "markdown",
   "source": [
    "## Создание и валидация моделей"
   ],
   "metadata": {
    "collapsed": false,
    "pycharm": {
     "name": "#%% md\n"
    }
   }
  },
  {
   "cell_type": "code",
   "execution_count": 15,
   "outputs": [],
   "source": [
    "from keras.models import Sequential\n",
    "from keras.layers import (\n",
    "    Dense,\n",
    "    Embedding,\n",
    "    SimpleRNN,\n",
    ")"
   ],
   "metadata": {
    "collapsed": false,
    "pycharm": {
     "name": "#%%\n"
    }
   }
  },
  {
   "cell_type": "markdown",
   "source": [
    "### Простая рекурентная нейронная сеть"
   ],
   "metadata": {
    "collapsed": false,
    "pycharm": {
     "name": "#%% md\n"
    }
   }
  },
  {
   "cell_type": "code",
   "execution_count": 24,
   "outputs": [],
   "source": [
    "max_words = 100000\n",
    "\n",
    "simple_model = Sequential()\n",
    "simple_model.add(Embedding(max_words, 128))\n",
    "simple_model.add(SimpleRNN(8))\n",
    "simple_model.add(Dense(1, activation=\"sigmoid\"))\n",
    "simple_model._estimator_type = \"classifier\""
   ],
   "metadata": {
    "collapsed": false,
    "pycharm": {
     "name": "#%%\n"
    }
   }
  },
  {
   "cell_type": "code",
   "execution_count": 25,
   "outputs": [],
   "source": [
    "simple_model.compile(optimizer='rmsprop',  loss='binary_crossentropy', metrics=['accuracy'])"
   ],
   "metadata": {
    "collapsed": false,
    "pycharm": {
     "name": "#%%\n"
    }
   }
  },
  {
   "cell_type": "code",
   "execution_count": 30,
   "outputs": [
    {
     "name": "stdout",
     "output_type": "stream",
     "text": [
      "Epoch 1/10\n",
      "88/88 [==============================] - 48s 549ms/step - loss: 0.1689 - accuracy: 0.9889 - val_loss: 0.7431 - val_accuracy: 0.5656\n",
      "Epoch 2/10\n",
      "88/88 [==============================] - 49s 553ms/step - loss: 0.1038 - accuracy: 0.9944 - val_loss: 0.7873 - val_accuracy: 0.5680\n",
      "Epoch 3/10\n",
      "88/88 [==============================] - 49s 560ms/step - loss: 0.0660 - accuracy: 0.9976 - val_loss: 0.8354 - val_accuracy: 0.5600\n",
      "Epoch 4/10\n",
      "88/88 [==============================] - 50s 565ms/step - loss: 0.0433 - accuracy: 0.9981 - val_loss: 0.9009 - val_accuracy: 0.5672\n",
      "Epoch 5/10\n",
      "88/88 [==============================] - 49s 560ms/step - loss: 0.0297 - accuracy: 0.9982 - val_loss: 0.9464 - val_accuracy: 0.5576\n",
      "Epoch 6/10\n",
      "88/88 [==============================] - 49s 559ms/step - loss: 0.0195 - accuracy: 0.9992 - val_loss: 1.0102 - val_accuracy: 0.5664\n",
      "Epoch 7/10\n",
      "88/88 [==============================] - 49s 561ms/step - loss: 0.0125 - accuracy: 0.9994 - val_loss: 1.1360 - val_accuracy: 0.5456\n",
      "Epoch 8/10\n",
      "88/88 [==============================] - 50s 566ms/step - loss: 0.0087 - accuracy: 0.9992 - val_loss: 1.1301 - val_accuracy: 0.5592\n",
      "Epoch 9/10\n",
      "88/88 [==============================] - 49s 562ms/step - loss: 0.0069 - accuracy: 0.9991 - val_loss: 1.2104 - val_accuracy: 0.5320\n",
      "Epoch 10/10\n",
      "88/88 [==============================] - 49s 562ms/step - loss: 0.0042 - accuracy: 0.9996 - val_loss: 1.2572 - val_accuracy: 0.5608\n"
     ]
    }
   ],
   "source": [
    "history = simple_model.fit(X_train, y_train, epochs=10, batch_size=128, validation_split=0.1)"
   ],
   "metadata": {
    "collapsed": false,
    "pycharm": {
     "name": "#%%\n"
    }
   }
  },
  {
   "cell_type": "code",
   "execution_count": 31,
   "outputs": [
    {
     "data": {
      "text/plain": "<Figure size 432x288 with 1 Axes>",
      "image/png": "[encoded data removed]"
     },
     "metadata": {
      "needs_background": "light"
     },
     "output_type": "display_data"
    }
   ],
   "source": [
    "plot_history_nn(history)"
   ],
   "metadata": {
    "collapsed": false,
    "pycharm": {
     "name": "#%%\n"
    }
   }
  },
  {
   "cell_type": "code",
   "execution_count": 35,
   "outputs": [],
   "source": [
    "y_pred = simple_model.predict(X_val)"
   ],
   "metadata": {
    "collapsed": false,
    "pycharm": {
     "name": "#%%\n"
    }
   }
  },
  {
   "cell_type": "code",
   "execution_count": 38,
   "outputs": [
    {
     "data": {
      "text/plain": "<Figure size 432x288 with 1 Axes>",
      "image/png": "[encoded data removed]"
     },
     "metadata": {
      "needs_background": "light"
     },
     "output_type": "display_data"
    },
    {
     "name": "stdout",
     "output_type": "stream",
     "text": [
      "ROC-AUC Score: 0.6227469834398804\n"
     ]
    }
   ],
   "source": [
    "plot_roc_curve(y_pred, y_val)"
   ],
   "metadata": {
    "collapsed": false,
    "pycharm": {
     "name": "#%%\n"
    }
   }
  },
  {
   "cell_type": "code",
   "execution_count": 37,
   "outputs": [
    {
     "data": {
      "text/plain": "<Figure size 432x288 with 2 Axes>",
      "image/png": "[encoded data removed]"
     },
     "metadata": {
      "needs_background": "light"
     },
     "output_type": "display_data"
    },
    {
     "data": {
      "text/plain": "<Figure size 432x288 with 2 Axes>",
      "image/png": "[encoded data removed]"
     },
     "metadata": {
      "needs_background": "light"
     },
     "output_type": "display_data"
    }
   ],
   "source": [
    "y_pred_int = [1 if pred[0] > 0.5 else 0 for pred in y_pred]  # так как предсказания в интервале 0 и 1, то будем считать, что 1 - больше 0.5, иначе - 0\n",
    "plot_confusion_matrix(y_pred_int, y_val)"
   ],
   "metadata": {
    "collapsed": false,
    "pycharm": {
     "name": "#%%\n"
    }
   }
  },
  {
   "cell_type": "code",
   "execution_count": 22,
   "outputs": [],
   "source": [],
   "metadata": {
    "collapsed": false,
    "pycharm": {
     "name": "#%%\n"
    }
   }
  }
 ],
 "metadata": {
  "kernelspec": {
   "display_name": "Python 3",
   "language": "python",
   "name": "python3"
  },
  "language_info": {
   "codemirror_mode": {
    "name": "ipython",
    "version": 2
   },
   "file_extension": ".py",
   "mimetype": "text/x-python",
   "name": "python",
   "nbconvert_exporter": "python",
   "pygments_lexer": "ipython2",
   "version": "2.7.6"
  }
 },
 "nbformat": 4,
 "nbformat_minor": 0
}