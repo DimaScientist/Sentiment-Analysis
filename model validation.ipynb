{
 "cells": [
  {
   "cell_type": "markdown",
   "source": [
    "# Анализ тональности текста (Sentiment analysis). Валидация модели\n",
    "\n",
    "В качестве моделей будут рассматриваться рекурентные нейронные сети"
   ],
   "metadata": {
    "collapsed": false,
    "pycharm": {
     "name": "#%% md\n"
    }
   }
  },
  {
   "cell_type": "code",
   "execution_count": null,
   "outputs": [],
   "source": [
    "!pip install -r requirements.txt"
   ],
   "metadata": {
    "collapsed": false,
    "pycharm": {
     "name": "#%%\n",
     "is_executing": true
    }
   }
  },
  {
   "cell_type": "code",
   "execution_count": 2,
   "outputs": [],
   "source": [
    "import pandas as pd\n",
    "import warnings\n",
    "import numpy as np\n",
    "import matplotlib.pyplot as plt\n",
    "import seaborn as sns\n",
    "from sklearn.metrics import roc_curve, roc_auc_score, confusion_matrix\n",
    "\n",
    "\n",
    "warnings.filterwarnings('ignore')\n",
    "np.random.seed(0)\n",
    "\n",
    "def plot_roc_curve(y_pred, y_true) -> None:\n",
    "    fpr, tpr, _ = roc_curve(y_true, y_pred)\n",
    "    plt.plot(fpr, tpr)\n",
    "    plt.axis([0,1,0,1])\n",
    "    plt.title(\"ROC-кривая\")\n",
    "    plt.xlabel('False Positive Rate')\n",
    "    plt.ylabel('True Positive Rate')\n",
    "    plt.show()\n",
    "    print(f\"ROC-AUC Score: {roc_auc_score(y_true, y_pred)}\")\n",
    "\n",
    "def plot_confusion_matrix(y_pred, y_true) -> None:\n",
    "    cf_matrix = confusion_matrix(y_true, y_pred)\n",
    "    ax = sns.heatmap(cf_matrix, annot=True, cmap=\"Blues\")\n",
    "    ax.set_title(\"Матрица неточностей\")\n",
    "    ax.set_xlabel(\"Предсказанные значения\")\n",
    "    ax.set_ylabel(\"Действительные значения\")\n",
    "    plt.show()\n",
    "\n",
    "def plot_history_nn(history) -> None:\n",
    "    plt.plot(history.history['accuracy'], label=\"Точность на обучающем наборе\")\n",
    "    plt.plot(history.history['val_accuracy'], label=\"Точность на проверочном наборе\")\n",
    "    plt.xlabel(\"Эпоха обучения\")\n",
    "    plt.ylabel(\"Точность\")\n",
    "    plt.legend()\n",
    "    plt.show()"
   ],
   "metadata": {
    "collapsed": false,
    "pycharm": {
     "name": "#%%\n"
    }
   }
  },
  {
   "cell_type": "code",
   "execution_count": 3,
   "outputs": [],
   "source": [
    "train_data = pd.read_csv(\"./data/clear_train_data.csv\")"
   ],
   "metadata": {
    "collapsed": false,
    "pycharm": {
     "name": "#%%\n"
    }
   }
  },
  {
   "cell_type": "code",
   "execution_count": 93,
   "outputs": [
    {
     "data": {
      "text/plain": "                                              comment  toxic\n20  посмотрел комментарии твоим постам процент гов...    1.0\n21                      это утверждал чмоха спалились    1.0\n22  обеих странах партия войны обеих странах эта в...    1.0\n23  причем чувство юмора придумал опроверг писал с...    1.0\n24  агрессия ткнули твое дерьмо обтекай это отрица...    1.0",
      "text/html": "<div>\n<style scoped>\n    .dataframe tbody tr th:only-of-type {\n        vertical-align: middle;\n    }\n\n    .dataframe tbody tr th {\n        vertical-align: top;\n    }\n\n    .dataframe thead th {\n        text-align: right;\n    }\n</style>\n<table border=\"1\" class=\"dataframe\">\n  <thead>\n    <tr style=\"text-align: right;\">\n      <th></th>\n      <th>comment</th>\n      <th>toxic</th>\n    </tr>\n  </thead>\n  <tbody>\n    <tr>\n      <th>20</th>\n      <td>посмотрел комментарии твоим постам процент гов...</td>\n      <td>1.0</td>\n    </tr>\n    <tr>\n      <th>21</th>\n      <td>это утверждал чмоха спалились</td>\n      <td>1.0</td>\n    </tr>\n    <tr>\n      <th>22</th>\n      <td>обеих странах партия войны обеих странах эта в...</td>\n      <td>1.0</td>\n    </tr>\n    <tr>\n      <th>23</th>\n      <td>причем чувство юмора придумал опроверг писал с...</td>\n      <td>1.0</td>\n    </tr>\n    <tr>\n      <th>24</th>\n      <td>агрессия ткнули твое дерьмо обтекай это отрица...</td>\n      <td>1.0</td>\n    </tr>\n  </tbody>\n</table>\n</div>"
     },
     "execution_count": 93,
     "metadata": {},
     "output_type": "execute_result"
    }
   ],
   "source": [
    "train_data.iloc[20:25]"
   ],
   "metadata": {
    "collapsed": false,
    "pycharm": {
     "name": "#%%\n"
    }
   }
  },
  {
   "cell_type": "code",
   "execution_count": 5,
   "outputs": [],
   "source": [
    "train_data[\"comment\"] = train_data[\"comment\"].astype(str)  # ошибка в токенизации, что возникает где-то float"
   ],
   "metadata": {
    "collapsed": false,
    "pycharm": {
     "name": "#%%\n"
    }
   }
  },
  {
   "cell_type": "code",
   "execution_count": 6,
   "outputs": [
    {
     "data": {
      "text/plain": "(14412, 2)"
     },
     "execution_count": 6,
     "metadata": {},
     "output_type": "execute_result"
    }
   ],
   "source": [
    "train_data.shape"
   ],
   "metadata": {
    "collapsed": false,
    "pycharm": {
     "name": "#%%\n"
    }
   }
  },
  {
   "cell_type": "code",
   "execution_count": 7,
   "outputs": [
    {
     "data": {
      "text/plain": "comment     object\ntoxic      float64\ndtype: object"
     },
     "execution_count": 7,
     "metadata": {},
     "output_type": "execute_result"
    }
   ],
   "source": [
    "train_data.dtypes"
   ],
   "metadata": {
    "collapsed": false,
    "pycharm": {
     "name": "#%%\n"
    }
   }
  },
  {
   "cell_type": "code",
   "execution_count": 8,
   "outputs": [],
   "source": [
    "X = train_data[\"comment\"]\n",
    "y = train_data[\"toxic\"]"
   ],
   "metadata": {
    "collapsed": false,
    "pycharm": {
     "name": "#%%\n"
    }
   }
  },
  {
   "cell_type": "markdown",
   "source": [
    "## Подготовка данных для обучения"
   ],
   "metadata": {
    "collapsed": false,
    "pycharm": {
     "name": "#%% md\n"
    }
   }
  },
  {
   "cell_type": "code",
   "execution_count": 9,
   "outputs": [],
   "source": [
    "from keras.preprocessing.text import Tokenizer\n",
    "from keras.preprocessing.sequence import pad_sequences"
   ],
   "metadata": {
    "collapsed": false,
    "pycharm": {
     "name": "#%%\n"
    }
   }
  },
  {
   "cell_type": "code",
   "execution_count": 10,
   "outputs": [],
   "source": [
    "# разбиваем текст на токены и создаем их последовательности\n",
    "tokenizer = Tokenizer()\n",
    "tokenizer.fit_on_texts(X)\n",
    "X_clean = pad_sequences(tokenizer.texts_to_sequences(X))"
   ],
   "metadata": {
    "collapsed": false,
    "pycharm": {
     "name": "#%%\n"
    }
   }
  },
  {
   "cell_type": "code",
   "execution_count": 11,
   "outputs": [],
   "source": [
    "# разобьем выборку на обучающую и проверочную\n",
    "from sklearn.model_selection import train_test_split\n",
    "\n",
    "X_train, X_val, y_train, y_val = train_test_split(X_clean, y, test_size=0.5)"
   ],
   "metadata": {
    "collapsed": false,
    "pycharm": {
     "name": "#%%\n"
    }
   }
  },
  {
   "cell_type": "code",
   "execution_count": 12,
   "outputs": [
    {
     "data": {
      "text/plain": "array([[    0,     0,     0, ..., 18290, 12696,  7832],\n       [    0,     0,     0, ...,  6590,  5773,   374],\n       [    0,     0,     0, ..., 19772,   731, 21390],\n       ...,\n       [    0,     0,     0, ..., 62227, 25778, 12904],\n       [    0,     0,     0, ..., 15240,  2553, 21485],\n       [    0,     0,     0, ...,  9086,  3641,  2540]])"
     },
     "execution_count": 12,
     "metadata": {},
     "output_type": "execute_result"
    }
   ],
   "source": [
    "X_train[:10]"
   ],
   "metadata": {
    "collapsed": false,
    "pycharm": {
     "name": "#%%\n"
    }
   }
  },
  {
   "cell_type": "code",
   "execution_count": 13,
   "outputs": [
    {
     "data": {
      "text/plain": "(7206, 796)"
     },
     "execution_count": 13,
     "metadata": {},
     "output_type": "execute_result"
    }
   ],
   "source": [
    "X_train.shape"
   ],
   "metadata": {
    "collapsed": false,
    "pycharm": {
     "name": "#%%\n"
    }
   }
  },
  {
   "cell_type": "code",
   "execution_count": 14,
   "outputs": [
    {
     "data": {
      "text/plain": "(7206,)"
     },
     "execution_count": 14,
     "metadata": {},
     "output_type": "execute_result"
    }
   ],
   "source": [
    "y_train.shape"
   ],
   "metadata": {
    "collapsed": false,
    "pycharm": {
     "name": "#%%\n"
    }
   }
  },
  {
   "cell_type": "code",
   "execution_count": 15,
   "outputs": [
    {
     "data": {
      "text/plain": "(7206, 796)"
     },
     "execution_count": 15,
     "metadata": {},
     "output_type": "execute_result"
    }
   ],
   "source": [
    "X_val.shape"
   ],
   "metadata": {
    "collapsed": false,
    "pycharm": {
     "name": "#%%\n"
    }
   }
  },
  {
   "cell_type": "markdown",
   "source": [
    "## Создание и валидация моделей"
   ],
   "metadata": {
    "collapsed": false,
    "pycharm": {
     "name": "#%% md\n"
    }
   }
  },
  {
   "cell_type": "code",
   "execution_count": 16,
   "outputs": [],
   "source": [
    "from keras.models import Sequential\n",
    "from keras.layers import (\n",
    "    Dense,\n",
    "    Embedding,\n",
    "    LSTM,\n",
    "    GRU,\n",
    "    SimpleRNN,\n",
    ")"
   ],
   "metadata": {
    "collapsed": false,
    "pycharm": {
     "name": "#%%\n"
    }
   }
  },
  {
   "cell_type": "markdown",
   "source": [
    "### Простая рекурентная нейронная сеть"
   ],
   "metadata": {
    "collapsed": false,
    "pycharm": {
     "name": "#%% md\n"
    }
   }
  },
  {
   "cell_type": "code",
   "execution_count": 17,
   "outputs": [],
   "source": [
    "max_words = 100000\n",
    "\n",
    "simple_model = Sequential()\n",
    "simple_model.add(Embedding(max_words, 128))\n",
    "simple_model.add(SimpleRNN(32, recurrent_dropout = 0.2))\n",
    "simple_model.add(Dense(1, activation=\"sigmoid\"))\n",
    "simple_model._estimator_type = \"classifier\""
   ],
   "metadata": {
    "collapsed": false,
    "pycharm": {
     "name": "#%%\n"
    }
   }
  },
  {
   "cell_type": "code",
   "execution_count": 18,
   "outputs": [],
   "source": [
    "simple_model.compile(optimizer='rmsprop',  loss='binary_crossentropy', metrics=['accuracy'])"
   ],
   "metadata": {
    "collapsed": false,
    "pycharm": {
     "name": "#%%\n"
    }
   }
  },
  {
   "cell_type": "code",
   "execution_count": 19,
   "outputs": [
    {
     "name": "stdout",
     "output_type": "stream",
     "text": [
      "Model: \"sequential\"\n",
      "_________________________________________________________________\n",
      " Layer (type)                Output Shape              Param #   \n",
      "=================================================================\n",
      " embedding (Embedding)       (None, None, 128)         12800000  \n",
      "                                                                 \n",
      " simple_rnn (SimpleRNN)      (None, 32)                5152      \n",
      "                                                                 \n",
      " dense (Dense)               (None, 1)                 33        \n",
      "                                                                 \n",
      "=================================================================\n",
      "Total params: 12,805,185\n",
      "Trainable params: 12,805,185\n",
      "Non-trainable params: 0\n",
      "_________________________________________________________________\n"
     ]
    }
   ],
   "source": [
    "simple_model.summary()"
   ],
   "metadata": {
    "collapsed": false,
    "pycharm": {
     "name": "#%%\n"
    }
   }
  },
  {
   "cell_type": "code",
   "execution_count": 20,
   "outputs": [
    {
     "name": "stdout",
     "output_type": "stream",
     "text": [
      "Epoch 1/10\n",
      "51/51 [==============================] - 23s 442ms/step - loss: 0.7166 - accuracy: 0.5135 - val_loss: 0.6924 - val_accuracy: 0.5173\n",
      "Epoch 2/10\n",
      "51/51 [==============================] - 23s 444ms/step - loss: 0.6151 - accuracy: 0.6743 - val_loss: 0.6379 - val_accuracy: 0.6616\n",
      "Epoch 3/10\n",
      "51/51 [==============================] - 22s 430ms/step - loss: 0.4874 - accuracy: 0.7978 - val_loss: 0.6006 - val_accuracy: 0.6699\n",
      "Epoch 4/10\n",
      "51/51 [==============================] - 22s 441ms/step - loss: 0.3033 - accuracy: 0.9109 - val_loss: 0.5296 - val_accuracy: 0.7295\n",
      "Epoch 5/10\n",
      "51/51 [==============================] - 22s 435ms/step - loss: 0.1401 - accuracy: 0.9707 - val_loss: 0.5171 - val_accuracy: 0.7476\n",
      "Epoch 6/10\n",
      "51/51 [==============================] - 22s 433ms/step - loss: 0.0614 - accuracy: 0.9867 - val_loss: 0.5284 - val_accuracy: 0.7545\n",
      "Epoch 7/10\n",
      "51/51 [==============================] - 22s 436ms/step - loss: 0.0289 - accuracy: 0.9937 - val_loss: 0.5594 - val_accuracy: 0.7559\n",
      "Epoch 8/10\n",
      "51/51 [==============================] - 22s 436ms/step - loss: 0.0186 - accuracy: 0.9952 - val_loss: 0.6282 - val_accuracy: 0.7420\n",
      "Epoch 9/10\n",
      "51/51 [==============================] - 22s 429ms/step - loss: 0.0103 - accuracy: 0.9975 - val_loss: 0.6744 - val_accuracy: 0.7365\n",
      "Epoch 10/10\n",
      "51/51 [==============================] - 22s 431ms/step - loss: 0.0082 - accuracy: 0.9977 - val_loss: 0.7323 - val_accuracy: 0.7171\n"
     ]
    }
   ],
   "source": [
    "history = simple_model.fit(X_train, y_train, epochs=10, batch_size=128, validation_split=0.1)"
   ],
   "metadata": {
    "collapsed": false,
    "pycharm": {
     "name": "#%%\n"
    }
   }
  },
  {
   "cell_type": "code",
   "execution_count": 21,
   "outputs": [
    {
     "data": {
      "text/plain": "<Figure size 432x288 with 1 Axes>",
      "image/png": "[encoded data removed]"
     },
     "metadata": {
      "needs_background": "light"
     },
     "output_type": "display_data"
    }
   ],
   "source": [
    "plot_history_nn(history)"
   ],
   "metadata": {
    "collapsed": false,
    "pycharm": {
     "name": "#%%\n"
    }
   }
  },
  {
   "cell_type": "code",
   "execution_count": 22,
   "outputs": [],
   "source": [
    "y_pred = simple_model.predict(X_val)"
   ],
   "metadata": {
    "collapsed": false,
    "pycharm": {
     "name": "#%%\n"
    }
   }
  },
  {
   "cell_type": "code",
   "execution_count": 23,
   "outputs": [
    {
     "data": {
      "text/plain": "<Figure size 432x288 with 1 Axes>",
      "image/png": "[encoded data removed]"
     },
     "metadata": {
      "needs_background": "light"
     },
     "output_type": "display_data"
    },
    {
     "name": "stdout",
     "output_type": "stream",
     "text": [
      "ROC-AUC Score: 0.7542665919529642\n"
     ]
    }
   ],
   "source": [
    "plot_roc_curve(y_pred, y_val)"
   ],
   "metadata": {
    "collapsed": false,
    "pycharm": {
     "name": "#%%\n"
    }
   }
  },
  {
   "cell_type": "code",
   "execution_count": 24,
   "outputs": [
    {
     "data": {
      "text/plain": "<Figure size 432x288 with 2 Axes>",
      "image/png": "[encoded data removed]"
     },
     "metadata": {
      "needs_background": "light"
     },
     "output_type": "display_data"
    }
   ],
   "source": [
    "y_pred_int = [1 if pred[0] > 0.5 else 0 for pred in y_pred]  # так как предсказания в интервале 0 и 1, то будем считать, что 1 - больше 0.5, иначе - 0\n",
    "plot_confusion_matrix(y_pred_int, y_val)"
   ],
   "metadata": {
    "collapsed": false,
    "pycharm": {
     "name": "#%%\n"
    }
   }
  },
  {
   "cell_type": "markdown",
   "source": [
    "### Реккурентная сеть со слоем LSTM"
   ],
   "metadata": {
    "collapsed": false,
    "pycharm": {
     "name": "#%% md\n"
    }
   }
  },
  {
   "cell_type": "code",
   "execution_count": 25,
   "outputs": [],
   "source": [
    "model_lstm = Sequential()\n",
    "model_lstm.add(Embedding(max_words, 128))\n",
    "model_lstm.add(LSTM(32, recurrent_dropout = 0.2))\n",
    "model_lstm.add(Dense(1, activation=\"sigmoid\"))\n",
    "\n",
    "model_lstm.compile(optimizer='rmsprop',  loss='binary_crossentropy', metrics=['accuracy'])"
   ],
   "metadata": {
    "collapsed": false,
    "pycharm": {
     "name": "#%%\n"
    }
   }
  },
  {
   "cell_type": "code",
   "execution_count": 26,
   "outputs": [
    {
     "name": "stdout",
     "output_type": "stream",
     "text": [
      "Model: \"sequential_1\"\n",
      "_________________________________________________________________\n",
      " Layer (type)                Output Shape              Param #   \n",
      "=================================================================\n",
      " embedding_1 (Embedding)     (None, None, 128)         12800000  \n",
      "                                                                 \n",
      " lstm (LSTM)                 (None, 32)                20608     \n",
      "                                                                 \n",
      " dense_1 (Dense)             (None, 1)                 33        \n",
      "                                                                 \n",
      "=================================================================\n",
      "Total params: 12,820,641\n",
      "Trainable params: 12,820,641\n",
      "Non-trainable params: 0\n",
      "_________________________________________________________________\n"
     ]
    }
   ],
   "source": [
    "model_lstm.summary()"
   ],
   "metadata": {
    "collapsed": false,
    "pycharm": {
     "name": "#%%\n"
    }
   }
  },
  {
   "cell_type": "code",
   "execution_count": 27,
   "outputs": [
    {
     "name": "stdout",
     "output_type": "stream",
     "text": [
      "Epoch 1/10\n",
      "51/51 [==============================] - 64s 1s/step - loss: 0.6073 - accuracy: 0.6671 - val_loss: 0.6039 - val_accuracy: 0.6338\n",
      "Epoch 2/10\n",
      "51/51 [==============================] - 62s 1s/step - loss: 0.3911 - accuracy: 0.8313 - val_loss: 0.4815 - val_accuracy: 0.7725\n",
      "Epoch 3/10\n",
      "51/51 [==============================] - 62s 1s/step - loss: 0.2085 - accuracy: 0.9479 - val_loss: 0.4100 - val_accuracy: 0.8447\n",
      "Epoch 4/10\n",
      "51/51 [==============================] - 61s 1s/step - loss: 0.1065 - accuracy: 0.9732 - val_loss: 0.4378 - val_accuracy: 0.8460\n",
      "Epoch 5/10\n",
      "51/51 [==============================] - 62s 1s/step - loss: 0.0565 - accuracy: 0.9863 - val_loss: 0.4604 - val_accuracy: 0.8599\n",
      "Epoch 6/10\n",
      "51/51 [==============================] - 61s 1s/step - loss: 0.0326 - accuracy: 0.9911 - val_loss: 0.4810 - val_accuracy: 0.8571\n",
      "Epoch 7/10\n",
      "51/51 [==============================] - 62s 1s/step - loss: 0.0216 - accuracy: 0.9941 - val_loss: 0.5375 - val_accuracy: 0.8419\n",
      "Epoch 8/10\n",
      "51/51 [==============================] - 62s 1s/step - loss: 0.0149 - accuracy: 0.9958 - val_loss: 0.5458 - val_accuracy: 0.8530\n",
      "Epoch 9/10\n",
      "51/51 [==============================] - 62s 1s/step - loss: 0.0119 - accuracy: 0.9965 - val_loss: 0.5836 - val_accuracy: 0.8252\n",
      "Epoch 10/10\n",
      "51/51 [==============================] - 62s 1s/step - loss: 0.0106 - accuracy: 0.9963 - val_loss: 0.5554 - val_accuracy: 0.8294\n"
     ]
    }
   ],
   "source": [
    "history = model_lstm.fit(X_train, y_train, epochs=10, batch_size=128, validation_split=0.1)"
   ],
   "metadata": {
    "collapsed": false,
    "pycharm": {
     "name": "#%%\n"
    }
   }
  },
  {
   "cell_type": "code",
   "execution_count": 28,
   "outputs": [
    {
     "data": {
      "text/plain": "<Figure size 432x288 with 1 Axes>",
      "image/png": "[encoded data removed]"
     },
     "metadata": {
      "needs_background": "light"
     },
     "output_type": "display_data"
    }
   ],
   "source": [
    "plot_history_nn(history)"
   ],
   "metadata": {
    "collapsed": false,
    "pycharm": {
     "name": "#%%\n"
    }
   }
  },
  {
   "cell_type": "code",
   "execution_count": 29,
   "outputs": [],
   "source": [
    "y_pred = model_lstm.predict(X_val)"
   ],
   "metadata": {
    "collapsed": false,
    "pycharm": {
     "name": "#%%\n"
    }
   }
  },
  {
   "cell_type": "code",
   "execution_count": 30,
   "outputs": [
    {
     "data": {
      "text/plain": "<Figure size 432x288 with 1 Axes>",
      "image/png": "[encoded data removed]"
     },
     "metadata": {
      "needs_background": "light"
     },
     "output_type": "display_data"
    },
    {
     "name": "stdout",
     "output_type": "stream",
     "text": [
      "ROC-AUC Score: 0.8877520725678216\n"
     ]
    }
   ],
   "source": [
    "plot_roc_curve(y_pred, y_val)"
   ],
   "metadata": {
    "collapsed": false,
    "pycharm": {
     "name": "#%%\n"
    }
   }
  },
  {
   "cell_type": "code",
   "execution_count": 31,
   "outputs": [
    {
     "data": {
      "text/plain": "<Figure size 432x288 with 2 Axes>",
      "image/png": "[encoded data removed]"
     },
     "metadata": {
      "needs_background": "light"
     },
     "output_type": "display_data"
    }
   ],
   "source": [
    "y_pred_int = [1 if pred[0] > 0.5 else 0 for pred in y_pred]  # так как предсказания в интервале 0 и 1, то будем считать, что 1 - больше 0.5, иначе - 0\n",
    "plot_confusion_matrix(y_pred_int, y_val)"
   ],
   "metadata": {
    "collapsed": false,
    "pycharm": {
     "name": "#%%\n"
    }
   }
  },
  {
   "cell_type": "markdown",
   "source": [
    "### Реккурентная сеть со слоем GRU"
   ],
   "metadata": {
    "collapsed": false,
    "pycharm": {
     "name": "#%% md\n"
    }
   }
  },
  {
   "cell_type": "code",
   "execution_count": 32,
   "outputs": [],
   "source": [
    "model_gru = Sequential()\n",
    "model_gru.add(Embedding(max_words, 128))\n",
    "model_gru.add(GRU(32, recurrent_dropout = 0.2))\n",
    "model_gru.add(Dense(1, activation=\"sigmoid\"))\n",
    "\n",
    "model_gru.compile(optimizer='rmsprop',  loss='binary_crossentropy', metrics=['accuracy'])"
   ],
   "metadata": {
    "collapsed": false,
    "pycharm": {
     "name": "#%%\n"
    }
   }
  },
  {
   "cell_type": "code",
   "execution_count": 33,
   "outputs": [
    {
     "name": "stdout",
     "output_type": "stream",
     "text": [
      "Model: \"sequential_2\"\n",
      "_________________________________________________________________\n",
      " Layer (type)                Output Shape              Param #   \n",
      "=================================================================\n",
      " embedding_2 (Embedding)     (None, None, 128)         12800000  \n",
      "                                                                 \n",
      " gru (GRU)                   (None, 32)                15552     \n",
      "                                                                 \n",
      " dense_2 (Dense)             (None, 1)                 33        \n",
      "                                                                 \n",
      "=================================================================\n",
      "Total params: 12,815,585\n",
      "Trainable params: 12,815,585\n",
      "Non-trainable params: 0\n",
      "_________________________________________________________________\n"
     ]
    }
   ],
   "source": [
    "model_gru.summary()"
   ],
   "metadata": {
    "collapsed": false,
    "pycharm": {
     "name": "#%%\n"
    }
   }
  },
  {
   "cell_type": "code",
   "execution_count": 34,
   "outputs": [
    {
     "name": "stdout",
     "output_type": "stream",
     "text": [
      "Epoch 1/10\n",
      "51/51 [==============================] - 48s 904ms/step - loss: 0.6020 - accuracy: 0.6768 - val_loss: 0.5422 - val_accuracy: 0.7393\n",
      "Epoch 2/10\n",
      "51/51 [==============================] - 47s 918ms/step - loss: 0.3169 - accuracy: 0.8958 - val_loss: 0.4446 - val_accuracy: 0.8280\n",
      "Epoch 3/10\n",
      "51/51 [==============================] - 46s 911ms/step - loss: 0.1515 - accuracy: 0.9611 - val_loss: 0.4144 - val_accuracy: 0.8294\n",
      "Epoch 4/10\n",
      "51/51 [==============================] - 47s 919ms/step - loss: 0.0748 - accuracy: 0.9807 - val_loss: 0.4613 - val_accuracy: 0.8447\n",
      "Epoch 5/10\n",
      "51/51 [==============================] - 47s 914ms/step - loss: 0.0369 - accuracy: 0.9900 - val_loss: 0.5067 - val_accuracy: 0.8419\n",
      "Epoch 6/10\n",
      "51/51 [==============================] - 47s 912ms/step - loss: 0.0212 - accuracy: 0.9941 - val_loss: 0.9164 - val_accuracy: 0.8114\n",
      "Epoch 7/10\n",
      "51/51 [==============================] - 46s 911ms/step - loss: 0.0140 - accuracy: 0.9955 - val_loss: 0.6393 - val_accuracy: 0.8197\n",
      "Epoch 8/10\n",
      "51/51 [==============================] - 47s 913ms/step - loss: 0.0113 - accuracy: 0.9961 - val_loss: 0.6535 - val_accuracy: 0.7989\n",
      "Epoch 9/10\n",
      "51/51 [==============================] - 46s 905ms/step - loss: 0.0094 - accuracy: 0.9960 - val_loss: 0.6910 - val_accuracy: 0.7961\n",
      "Epoch 10/10\n",
      "51/51 [==============================] - 47s 920ms/step - loss: 0.0074 - accuracy: 0.9968 - val_loss: 0.7276 - val_accuracy: 0.7989\n"
     ]
    }
   ],
   "source": [
    "history = model_gru.fit(X_train, y_train, epochs=10, batch_size=128, validation_split=0.1)"
   ],
   "metadata": {
    "collapsed": false,
    "pycharm": {
     "name": "#%%\n"
    }
   }
  },
  {
   "cell_type": "code",
   "execution_count": 35,
   "outputs": [
    {
     "data": {
      "text/plain": "<Figure size 432x288 with 1 Axes>",
      "image/png": "[encoded data removed]"
     },
     "metadata": {
      "needs_background": "light"
     },
     "output_type": "display_data"
    }
   ],
   "source": [
    "plot_history_nn(history)"
   ],
   "metadata": {
    "collapsed": false,
    "pycharm": {
     "name": "#%%\n"
    }
   }
  },
  {
   "cell_type": "code",
   "execution_count": 36,
   "outputs": [],
   "source": [
    "y_pred = model_gru.predict(X_val)"
   ],
   "metadata": {
    "collapsed": false,
    "pycharm": {
     "name": "#%%\n"
    }
   }
  },
  {
   "cell_type": "code",
   "execution_count": 37,
   "outputs": [
    {
     "data": {
      "text/plain": "<Figure size 432x288 with 1 Axes>",
      "image/png": "[encoded data removed]"
     },
     "metadata": {
      "needs_background": "light"
     },
     "output_type": "display_data"
    },
    {
     "name": "stdout",
     "output_type": "stream",
     "text": [
      "ROC-AUC Score: 0.8733578308404863\n"
     ]
    }
   ],
   "source": [
    "plot_roc_curve(y_pred, y_val)"
   ],
   "metadata": {
    "collapsed": false,
    "pycharm": {
     "name": "#%%\n"
    }
   }
  },
  {
   "cell_type": "code",
   "execution_count": 38,
   "outputs": [
    {
     "data": {
      "text/plain": "<Figure size 432x288 with 2 Axes>",
      "image/png": "[encoded data removed]"
     },
     "metadata": {
      "needs_background": "light"
     },
     "output_type": "display_data"
    }
   ],
   "source": [
    "y_pred_int = [1 if pred[0] > 0.5 else 0 for pred in y_pred]  # так как предсказания в интервале 0 и 1, то будем считать, что 1 - больше 0.5, иначе - 0\n",
    "plot_confusion_matrix(y_pred_int, y_val)"
   ],
   "metadata": {
    "collapsed": false,
    "pycharm": {
     "name": "#%%\n"
    }
   }
  },
  {
   "cell_type": "markdown",
   "source": [
    "## Примеры"
   ],
   "metadata": {
    "collapsed": false,
    "pycharm": {
     "name": "#%% md\n"
    }
   }
  },
  {
   "cell_type": "code",
   "execution_count": 89,
   "outputs": [],
   "source": [
    "sample_data = train_data.sample(10)\n",
    "X_sample = sample_data[\"comment\"]\n",
    "X_sample = pad_sequences(tokenizer.texts_to_sequences(X_sample))"
   ],
   "metadata": {
    "collapsed": false,
    "pycharm": {
     "name": "#%%\n"
    }
   }
  },
  {
   "cell_type": "code",
   "execution_count": 90,
   "outputs": [],
   "source": [
    "y_simple_rnn = simple_model.predict(X_sample)\n",
    "y_gru = model_gru.predict(X_sample)\n",
    "y_lstm = model_lstm.predict(X_sample)"
   ],
   "metadata": {
    "collapsed": false,
    "pycharm": {
     "name": "#%%\n"
    }
   }
  },
  {
   "cell_type": "code",
   "execution_count": 91,
   "outputs": [],
   "source": [
    "data = {\n",
    "    \"comment\": sample_data[\"comment\"].to_list(),\n",
    "    \"true_prediction\": sample_data[\"toxic\"].to_list(),\n",
    "    \"simple_rnn_prediction\": [1  if value[0] > 0.5 else 0 for value in y_simple_rnn],\n",
    "    \"gru_prediction\": [1  if value[0] > 0.5 else 0 for value in y_gru],\n",
    "    \"lstm_prediction\": [1  if value[0] > 0.5 else 0 for value in y_lstm],\n",
    "}"
   ],
   "metadata": {
    "collapsed": false,
    "pycharm": {
     "name": "#%%\n"
    }
   }
  },
  {
   "cell_type": "code",
   "execution_count": 92,
   "outputs": [
    {
     "data": {
      "text/plain": "                                             comment  true_prediction  \\\n0  статье говорится хорош управлении вс упр рлось...              0.0   \n1  это правила работы документами сотрудник захоч...              0.0   \n2                       почему бцж появляется шрамик              0.0   \n3    посмотрите одета это любому якутске происходило              0.0   \n4                               ивашка простоквашкой              1.0   \n5  это эрефия метода сделать говно запретить бону...              1.0   \n6  честно говоря базовые потребности полностью по...              0.0   \n7  жалко р ближайшие несколько лет кредиты брать ...              0.0   \n8  выявлен каким анализам случайно рентгену ежего...              0.0   \n9  говорит регионы развиваются работа достойная з...              0.0   \n\n   simple_rnn_prediction  gru_prediction  lstm_prediction  \n0                      0               0                0  \n1                      0               0                0  \n2                      0               0                0  \n3                      0               0                0  \n4                      0               1                1  \n5                      1               1                1  \n6                      0               0                0  \n7                      0               0                0  \n8                      0               0                0  \n9                      0               0                0  ",
      "text/html": "<div>\n<style scoped>\n    .dataframe tbody tr th:only-of-type {\n        vertical-align: middle;\n    }\n\n    .dataframe tbody tr th {\n        vertical-align: top;\n    }\n\n    .dataframe thead th {\n        text-align: right;\n    }\n</style>\n<table border=\"1\" class=\"dataframe\">\n  <thead>\n    <tr style=\"text-align: right;\">\n      <th></th>\n      <th>comment</th>\n      <th>true_prediction</th>\n      <th>simple_rnn_prediction</th>\n      <th>gru_prediction</th>\n      <th>lstm_prediction</th>\n    </tr>\n  </thead>\n  <tbody>\n    <tr>\n      <th>0</th>\n      <td>статье говорится хорош управлении вс упр рлось...</td>\n      <td>0.0</td>\n      <td>0</td>\n      <td>0</td>\n      <td>0</td>\n    </tr>\n    <tr>\n      <th>1</th>\n      <td>это правила работы документами сотрудник захоч...</td>\n      <td>0.0</td>\n      <td>0</td>\n      <td>0</td>\n      <td>0</td>\n    </tr>\n    <tr>\n      <th>2</th>\n      <td>почему бцж появляется шрамик</td>\n      <td>0.0</td>\n      <td>0</td>\n      <td>0</td>\n      <td>0</td>\n    </tr>\n    <tr>\n      <th>3</th>\n      <td>посмотрите одета это любому якутске происходило</td>\n      <td>0.0</td>\n      <td>0</td>\n      <td>0</td>\n      <td>0</td>\n    </tr>\n    <tr>\n      <th>4</th>\n      <td>ивашка простоквашкой</td>\n      <td>1.0</td>\n      <td>0</td>\n      <td>1</td>\n      <td>1</td>\n    </tr>\n    <tr>\n      <th>5</th>\n      <td>это эрефия метода сделать говно запретить бону...</td>\n      <td>1.0</td>\n      <td>1</td>\n      <td>1</td>\n      <td>1</td>\n    </tr>\n    <tr>\n      <th>6</th>\n      <td>честно говоря базовые потребности полностью по...</td>\n      <td>0.0</td>\n      <td>0</td>\n      <td>0</td>\n      <td>0</td>\n    </tr>\n    <tr>\n      <th>7</th>\n      <td>жалко р ближайшие несколько лет кредиты брать ...</td>\n      <td>0.0</td>\n      <td>0</td>\n      <td>0</td>\n      <td>0</td>\n    </tr>\n    <tr>\n      <th>8</th>\n      <td>выявлен каким анализам случайно рентгену ежего...</td>\n      <td>0.0</td>\n      <td>0</td>\n      <td>0</td>\n      <td>0</td>\n    </tr>\n    <tr>\n      <th>9</th>\n      <td>говорит регионы развиваются работа достойная з...</td>\n      <td>0.0</td>\n      <td>0</td>\n      <td>0</td>\n      <td>0</td>\n    </tr>\n  </tbody>\n</table>\n</div>"
     },
     "execution_count": 92,
     "metadata": {},
     "output_type": "execute_result"
    }
   ],
   "source": [
    "pd.DataFrame(data)"
   ],
   "metadata": {
    "collapsed": false,
    "pycharm": {
     "name": "#%%\n"
    }
   }
  },
  {
   "cell_type": "code",
   "execution_count": null,
   "outputs": [],
   "source": [],
   "metadata": {
    "collapsed": false,
    "pycharm": {
     "name": "#%%\n"
    }
   }
  }
 ],
 "metadata": {
  "kernelspec": {
   "display_name": "Python 3",
   "language": "python",
   "name": "python3"
  },
  "language_info": {
   "codemirror_mode": {
    "name": "ipython",
    "version": 2
   },
   "file_extension": ".py",
   "mimetype": "text/x-python",
   "name": "python",
   "nbconvert_exporter": "python",
   "pygments_lexer": "ipython2",
   "version": "2.7.6"
  }
 },
 "nbformat": 4,
 "nbformat_minor": 0
}